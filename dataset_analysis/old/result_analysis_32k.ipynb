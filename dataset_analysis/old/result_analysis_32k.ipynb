{
 "cells": [
  {
   "cell_type": "code",
   "execution_count": 1,
   "metadata": {},
   "outputs": [],
   "source": [
    "# UNK 개수 새기"
   ]
  },
  {
   "cell_type": "code",
   "execution_count": 1,
   "metadata": {},
   "outputs": [],
   "source": [
    "import pandas as pd\n",
    "import re\n",
    "import numpy as np\n",
    "import pandas as pd\n",
    "from multiprocessing import Pool\n",
    "import multiprocessing\n"
   ]
  },
  {
   "cell_type": "markdown",
   "metadata": {},
   "source": [
    "# get OOV rate"
   ]
  },
  {
   "cell_type": "code",
   "execution_count": 2,
   "metadata": {},
   "outputs": [],
   "source": [
    "# [UNK]의 개수 / 문장의 길이 * 100\n",
    "from typing import List\n",
    "\n",
    "def getOOVRatePerSentence(sentence):\n",
    "    # [CLS], [SEP] 제거\n",
    "    sentence = sentence.split()\n",
    "    try:\n",
    "        sentence.remove('[CLS]')\n",
    "        sentence.remove('[SEP]')\n",
    "    except:\n",
    "        pass\n",
    "    OOV_rate = sentence.count('[UNK]') / len(sentence) * 100   \n",
    "    \n",
    "    return OOV_rate"
   ]
  },
  {
   "cell_type": "code",
   "execution_count": 3,
   "metadata": {},
   "outputs": [],
   "source": [
    "# count of all OOV tokens (OC)\n",
    "def getCountofallOOV(sentence):\n",
    "    sentence = sentence.split()\n",
    "    cnt = 0\n",
    "    cnt += sentence.count('[UNK]')\n",
    "    \n",
    "    return cnt"
   ]
  },
  {
   "cell_type": "code",
   "execution_count": 4,
   "metadata": {},
   "outputs": [],
   "source": [
    "# count of all sentences with OOV tokens, divided by the number of sentences * 100 (OR)\n",
    "def getOOVsentencePerSentences(corpus): #corpus: 토큰화된 문장이 있는 칼럼\n",
    "    cnt = 0\n",
    "    for sentence in corpus:\n",
    "        if '[UNK]' in sentence:\n",
    "            cnt += 1\n",
    "    OR = cnt / len(corpus)\n",
    "    return cnt, len(corpus), OR"
   ]
  },
  {
   "cell_type": "code",
   "execution_count": 5,
   "metadata": {},
   "outputs": [],
   "source": [
    "# [CLS, SEP] 제거\n",
    "def removeCS(sentence):\n",
    "    try:\n",
    "        sentence.remove('[CLS]', '[SEP]')\n",
    "    except:\n",
    "        pass\n",
    "    \n",
    "    return sentence"
   ]
  },
  {
   "cell_type": "code",
   "execution_count": 6,
   "metadata": {},
   "outputs": [],
   "source": [
    "# [UNK]수 /전체 토큰 수\n",
    "def getOOVdividedbyAllTokens(corpus):\n",
    "    corpus['OC'] = corpus['sentence'].apply(lambda x: getCountofallOOV(x))\n",
    "    corpus['sentence'].apply(lambda x: removeCS(x))\n",
    "    corpus['token_count'] = corpus['sentence'].apply(lambda x: len(x))\n",
    "    OOV_count = corpus['OC'].sum()\n",
    "    token_count = corpus['token_count'].sum()\n",
    "    \n",
    "    return OOV_count, token_count, OOV_count/token_count*100"
   ]
  },
  {
   "cell_type": "code",
   "execution_count": null,
   "metadata": {},
   "outputs": [],
   "source": []
  },
  {
   "cell_type": "code",
   "execution_count": 8,
   "metadata": {},
   "outputs": [
    {
     "data": {
      "text/html": [
       "<div>\n",
       "<style scoped>\n",
       "    .dataframe tbody tr th:only-of-type {\n",
       "        vertical-align: middle;\n",
       "    }\n",
       "\n",
       "    .dataframe tbody tr th {\n",
       "        vertical-align: top;\n",
       "    }\n",
       "\n",
       "    .dataframe thead th {\n",
       "        text-align: right;\n",
       "    }\n",
       "</style>\n",
       "<table border=\"1\" class=\"dataframe\">\n",
       "  <thead>\n",
       "    <tr style=\"text-align: right;\">\n",
       "      <th></th>\n",
       "      <th>sentence</th>\n",
       "    </tr>\n",
       "  </thead>\n",
       "  <tbody>\n",
       "    <tr>\n",
       "      <th>0</th>\n",
       "      <td>[CLS] 신 세계 ##수의 미궁 2에서 뜬 ! ##! ##아 ##앗 ##!! [SEP]</td>\n",
       "    </tr>\n",
       "    <tr>\n",
       "      <th>1</th>\n",
       "      <td>[CLS] 세계 ##수의 미궁 시리즈에 전통 ##으로 등장하는 대사 ##. 2편 #...</td>\n",
       "    </tr>\n",
       "    <tr>\n",
       "      <th>2</th>\n",
       "      <td>[CLS] 세계 ##수의 모험가 ##들이 탐험 ##하는 던전 ##인 수 ##해의 구...</td>\n",
       "    </tr>\n",
       "    <tr>\n",
       "      <th>3</th>\n",
       "      <td>[CLS] 그러나 분 ##배 ##할 수 있는 스킬 포인트 ##는 한정 ##되어 있기...</td>\n",
       "    </tr>\n",
       "    <tr>\n",
       "      <th>4</th>\n",
       "      <td>[CLS] 아 ##앗 ##!! ##이 발생하는 과정을 요약 ##하면 다음과 같다. ...</td>\n",
       "    </tr>\n",
       "  </tbody>\n",
       "</table>\n",
       "</div>"
      ],
      "text/plain": [
       "                                            sentence\n",
       "0  [CLS] 신 세계 ##수의 미궁 2에서 뜬 ! ##! ##아 ##앗 ##!! [SEP]\n",
       "1  [CLS] 세계 ##수의 미궁 시리즈에 전통 ##으로 등장하는 대사 ##. 2편 #...\n",
       "2  [CLS] 세계 ##수의 모험가 ##들이 탐험 ##하는 던전 ##인 수 ##해의 구...\n",
       "3  [CLS] 그러나 분 ##배 ##할 수 있는 스킬 포인트 ##는 한정 ##되어 있기...\n",
       "4  [CLS] 아 ##앗 ##!! ##이 발생하는 과정을 요약 ##하면 다음과 같다. ..."
      ]
     },
     "execution_count": 8,
     "metadata": {},
     "output_type": "execute_result"
    }
   ],
   "source": [
    "# eojoel_composed\n",
    "import pandas as pd\n",
    "corpus = pd.read_csv('/run/user/1000/gvfs/afp-volume:host=L8221.local,user=bongseok,volume=공유폴더/양봉석/bpe_tokenized/32k/eojeol_mecab_fixed_composed_grammatical_symbol_F_txt', \n",
    "                     sep='\\t', names=['sentence'])\n",
    "corpus.head()\n"
   ]
  },
  {
   "cell_type": "code",
   "execution_count": 9,
   "metadata": {},
   "outputs": [
    {
     "name": "stdout",
     "output_type": "stream",
     "text": [
      "1905 4951697574 3.847165485232035e-05\n"
     ]
    }
   ],
   "source": [
    "oov_count, token_count, rate = getOOVdividedbyAllTokens(corpus)\n",
    "print(oov_count, token_count, rate)"
   ]
  },
  {
   "cell_type": "code",
   "execution_count": 20,
   "metadata": {},
   "outputs": [],
   "source": [
    "OR = getOOVsentencePerSentences(corpus['sentence'])"
   ]
  },
  {
   "cell_type": "code",
   "execution_count": 21,
   "metadata": {},
   "outputs": [
    {
     "data": {
      "text/plain": [
       "3.5657537187944736e-05"
      ]
     },
     "execution_count": 21,
     "metadata": {},
     "output_type": "execute_result"
    }
   ],
   "source": [
    "OR"
   ]
  },
  {
   "cell_type": "code",
   "execution_count": 10,
   "metadata": {},
   "outputs": [],
   "source": [
    "corpus['OOV_rate'] = corpus['sentence'].apply(lambda x: getOOVRatePerSentence(x))"
   ]
  },
  {
   "cell_type": "code",
   "execution_count": 11,
   "metadata": {},
   "outputs": [],
   "source": [
    "corpus['OC'] = corpus['sentence'].apply(lambda x: getCountofallOOV(x))"
   ]
  },
  {
   "cell_type": "code",
   "execution_count": 36,
   "metadata": {},
   "outputs": [
    {
     "data": {
      "text/html": [
       "<div>\n",
       "<style scoped>\n",
       "    .dataframe tbody tr th:only-of-type {\n",
       "        vertical-align: middle;\n",
       "    }\n",
       "\n",
       "    .dataframe tbody tr th {\n",
       "        vertical-align: top;\n",
       "    }\n",
       "\n",
       "    .dataframe thead th {\n",
       "        text-align: right;\n",
       "    }\n",
       "</style>\n",
       "<table border=\"1\" class=\"dataframe\">\n",
       "  <thead>\n",
       "    <tr style=\"text-align: right;\">\n",
       "      <th></th>\n",
       "      <th>sentence</th>\n",
       "      <th>OOV_rate</th>\n",
       "      <th>OC</th>\n",
       "    </tr>\n",
       "  </thead>\n",
       "  <tbody>\n",
       "    <tr>\n",
       "      <th>0</th>\n",
       "      <td>[CLS] 신 세계 ##수의 미궁 2에서 뜬 !! ##아 ##앗 ##!! [SEP]</td>\n",
       "      <td>0.0</td>\n",
       "      <td>0</td>\n",
       "    </tr>\n",
       "    <tr>\n",
       "      <th>1</th>\n",
       "      <td>[CLS] 세계 ##수의 미궁 시리즈에 전통 ##으로 등장하는 대사. 2편 ##부터...</td>\n",
       "      <td>0.0</td>\n",
       "      <td>0</td>\n",
       "    </tr>\n",
       "    <tr>\n",
       "      <th>2</th>\n",
       "      <td>[CLS] 세계 ##수의 모험가 ##들이 탐험 ##하는 던전 ##인 수 ##해의 구...</td>\n",
       "      <td>0.0</td>\n",
       "      <td>0</td>\n",
       "    </tr>\n",
       "    <tr>\n",
       "      <th>3</th>\n",
       "      <td>[CLS] 그러나 분배 ##할 수 있는 스킬 포인트는 한정되어 있기 때문에 채집 스...</td>\n",
       "      <td>0.0</td>\n",
       "      <td>0</td>\n",
       "    </tr>\n",
       "    <tr>\n",
       "      <th>4</th>\n",
       "      <td>[CLS] 아 ##앗 ##!! ##이 발생하는 과정을 요약하면 다음과 같다. [SEP]</td>\n",
       "      <td>0.0</td>\n",
       "      <td>0</td>\n",
       "    </tr>\n",
       "  </tbody>\n",
       "</table>\n",
       "</div>"
      ],
      "text/plain": [
       "                                            sentence  OOV_rate  OC\n",
       "0     [CLS] 신 세계 ##수의 미궁 2에서 뜬 !! ##아 ##앗 ##!! [SEP]       0.0   0\n",
       "1  [CLS] 세계 ##수의 미궁 시리즈에 전통 ##으로 등장하는 대사. 2편 ##부터...       0.0   0\n",
       "2  [CLS] 세계 ##수의 모험가 ##들이 탐험 ##하는 던전 ##인 수 ##해의 구...       0.0   0\n",
       "3  [CLS] 그러나 분배 ##할 수 있는 스킬 포인트는 한정되어 있기 때문에 채집 스...       0.0   0\n",
       "4   [CLS] 아 ##앗 ##!! ##이 발생하는 과정을 요약하면 다음과 같다. [SEP]       0.0   0"
      ]
     },
     "execution_count": 36,
     "metadata": {},
     "output_type": "execute_result"
    }
   ],
   "source": [
    "corpus.head()"
   ]
  },
  {
   "cell_type": "code",
   "execution_count": 12,
   "metadata": {},
   "outputs": [
    {
     "name": "stdout",
     "output_type": "stream",
     "text": [
      "0.00028828570606354324 \n",
      " 3.689712566161582e-05 \n",
      " 1905\n"
     ]
    }
   ],
   "source": [
    "print(corpus['OOV_rate'].mean(), '\\n', corpus['OC'].mean(), '\\n', corpus['OC'].sum())"
   ]
  },
  {
   "cell_type": "code",
   "execution_count": 13,
   "metadata": {},
   "outputs": [
    {
     "name": "stdout",
     "output_type": "stream",
     "text": [
      "46772       [CLS] 바둑 ##의 모든 경우 ##의 가 ##짓 ##수는 36 ##1 ##! #...\n",
      "223848      [CLS] 인터뷰에서 선수들의 대한 승부 ##조작 비난을 자제 ##해 달라고 [UN...\n",
      "225328      [CLS] 미국 ##시간 10월 23일 ##, 뉴욕 에서 에 ##볼 ##라 확 ##...\n",
      "229388        [CLS] 1라운드 및 한국 선수들의 활약 ##상을 보 ##려면 [UNK] [SEP]\n",
      "229818      [CLS] [ ##* 사실 이와 비슷한 경주 전개 ##로 우리나라 ##가 금메달 #...\n",
      "                                  ...                        \n",
      "51567723    [CLS] 메인 예고 ##편 ##\" w ##id ##th ##=\" ##64 ##0 ...\n",
      "51567724    [CLS] 론 ##칭 예고 ##편 ##\" w ##id ##th ##=\" ##64 #...\n",
      "51568569    [CLS] [ ##* 논란 ##중인 사건의 [UNK] 중 윤 ##미래 ##라는 계정...\n",
      "51604907    [CLS] 게이 ##미 ##피 ##케이 ##션 알바 ##를 게임 ##처럼 만들고 싶...\n",
      "51614567    [CLS] [UNK] | ##[ ##F ##R ##] A ##vel ##ia H #...\n",
      "Name: sentence, Length: 1841, dtype: object\n"
     ]
    }
   ],
   "source": [
    "# OOV 포함 문장 확인\n",
    "print(corpus[corpus['sentence'].str.contains(\"[UNK]\", regex=False, case=True)]['sentence'])"
   ]
  },
  {
   "cell_type": "code",
   "execution_count": 14,
   "metadata": {},
   "outputs": [],
   "source": [
    "# eojoel_pure\n",
    "import pandas as pd\n",
    "\n",
    "corpus = pd.read_csv('/run/user/1000/gvfs/afp-volume:host=L8221.local,user=bongseok,volume=공유폴더/양봉석/bpe_tokenized/32k/eojeol_mecab_fixed_decomposed_pure_grammatical_symbol_F_txt', \n",
    "                 sep='\\t', names=['sentence'])"
   ]
  },
  {
   "cell_type": "code",
   "execution_count": 15,
   "metadata": {},
   "outputs": [
    {
     "name": "stdout",
     "output_type": "stream",
     "text": [
      "3731 7310908250 5.1033330913433364e-05\n"
     ]
    }
   ],
   "source": [
    "oov_count, token_count, rate = getOOVdividedbyAllTokens(corpus)\n",
    "print(oov_count, token_count, rate)"
   ]
  },
  {
   "cell_type": "code",
   "execution_count": 21,
   "metadata": {},
   "outputs": [
    {
     "name": "stdout",
     "output_type": "stream",
     "text": [
      "(3564, 51630038, 6.902958312755841e-05)\n"
     ]
    }
   ],
   "source": [
    "OR = getOOVsentencePerSentences(corpus['sentence'])\n",
    "print(OR)"
   ]
  },
  {
   "cell_type": "code",
   "execution_count": 16,
   "metadata": {},
   "outputs": [],
   "source": [
    "corpus['OOV_rate'] = corpus['sentence'].apply(lambda x: getOOVRatePerSentence(x))"
   ]
  },
  {
   "cell_type": "code",
   "execution_count": 17,
   "metadata": {},
   "outputs": [],
   "source": [
    "corpus['OC'] = corpus['sentence'].apply(lambda x: getCountofallOOV(x))"
   ]
  },
  {
   "cell_type": "code",
   "execution_count": 18,
   "metadata": {},
   "outputs": [
    {
     "data": {
      "text/html": [
       "<div>\n",
       "<style scoped>\n",
       "    .dataframe tbody tr th:only-of-type {\n",
       "        vertical-align: middle;\n",
       "    }\n",
       "\n",
       "    .dataframe tbody tr th {\n",
       "        vertical-align: top;\n",
       "    }\n",
       "\n",
       "    .dataframe thead th {\n",
       "        text-align: right;\n",
       "    }\n",
       "</style>\n",
       "<table border=\"1\" class=\"dataframe\">\n",
       "  <thead>\n",
       "    <tr style=\"text-align: right;\">\n",
       "      <th></th>\n",
       "      <th>sentence</th>\n",
       "      <th>OC</th>\n",
       "      <th>token_count</th>\n",
       "      <th>OOV_rate</th>\n",
       "    </tr>\n",
       "  </thead>\n",
       "  <tbody>\n",
       "    <tr>\n",
       "      <th>0</th>\n",
       "      <td>[CLS] 신 세계 ##수의 미궁 2에서 뜬 ! ##! ##...</td>\n",
       "      <td>0</td>\n",
       "      <td>65</td>\n",
       "      <td>0.0</td>\n",
       "    </tr>\n",
       "    <tr>\n",
       "      <th>1</th>\n",
       "      <td>[CLS] 세계 ##수의 미궁 시리즈에 전통 ##으로...</td>\n",
       "      <td>0</td>\n",
       "      <td>141</td>\n",
       "      <td>0.0</td>\n",
       "    </tr>\n",
       "    <tr>\n",
       "      <th>2</th>\n",
       "      <td>[CLS] 세계 ##수의 모험가 ##들이 탐험 ##하ᄂ...</td>\n",
       "      <td>0</td>\n",
       "      <td>260</td>\n",
       "      <td>0.0</td>\n",
       "    </tr>\n",
       "    <tr>\n",
       "      <th>3</th>\n",
       "      <td>[CLS] 그러나 분배 ##할 수 있는 스킬 포인...</td>\n",
       "      <td>0</td>\n",
       "      <td>166</td>\n",
       "      <td>0.0</td>\n",
       "    </tr>\n",
       "    <tr>\n",
       "      <th>4</th>\n",
       "      <td>[CLS] 아아 ##ᆺ! ##! ##이 발생하는 과정을 ...</td>\n",
       "      <td>0</td>\n",
       "      <td>80</td>\n",
       "      <td>0.0</td>\n",
       "    </tr>\n",
       "  </tbody>\n",
       "</table>\n",
       "</div>"
      ],
      "text/plain": [
       "                                            sentence  OC  token_count  \\\n",
       "0  [CLS] 신 세계 ##수의 미궁 2에서 뜬 ! ##! ##...   0           65   \n",
       "1  [CLS] 세계 ##수의 미궁 시리즈에 전통 ##으로...   0          141   \n",
       "2  [CLS] 세계 ##수의 모험가 ##들이 탐험 ##하ᄂ...   0          260   \n",
       "3  [CLS] 그러나 분배 ##할 수 있는 스킬 포인...   0          166   \n",
       "4  [CLS] 아아 ##ᆺ! ##! ##이 발생하는 과정을 ...   0           80   \n",
       "\n",
       "   OOV_rate  \n",
       "0       0.0  \n",
       "1       0.0  \n",
       "2       0.0  \n",
       "3       0.0  \n",
       "4       0.0  "
      ]
     },
     "execution_count": 18,
     "metadata": {},
     "output_type": "execute_result"
    }
   ],
   "source": [
    "corpus.head()"
   ]
  },
  {
   "cell_type": "code",
   "execution_count": 19,
   "metadata": {},
   "outputs": [
    {
     "name": "stdout",
     "output_type": "stream",
     "text": [
      "0.0006116152105434466 \n",
      " 7.22641343010439e-05 \n",
      " 3731\n"
     ]
    }
   ],
   "source": [
    "print(corpus['OOV_rate'].mean(), '\\n', corpus['OC'].mean(), '\\n', corpus['OC'].sum())"
   ]
  },
  {
   "cell_type": "code",
   "execution_count": 20,
   "metadata": {},
   "outputs": [
    {
     "name": "stdout",
     "output_type": "stream",
     "text": [
      "39254                    [CLS] 주요 경유지 ##는 [UNK] [SEP]\n",
      "46772       [CLS] 바둑 ##의 모든 경우의 가지 ##ᆺ수 ##느...\n",
      "57625       [CLS] 스테이지 순서는 ##, [UNK] 1주차 ##이고...\n",
      "177628      [CLS] 이집트 ##의 카이 ##로 ##-아 ##ᆯ레 ##ᆨ #...\n",
      "213726             [CLS] [UNK] 갈 뻔 ##했는데 ##... [SEP]\n",
      "                                  ...                        \n",
      "51567723    [CLS] 메인 예고편 ##\" width= ##\" ##64 ##0 ##...\n",
      "51567724    [CLS] 론 ##칭 예고편 ##\" width= ##\" ##64 ##...\n",
      "51568569    [CLS] [ ##* 논란 ##중인 사건의 [UNK] 중 ...\n",
      "51603429    [CLS] 사랑해 ##서, 사랑해 ##서, 사랑해 ##서...\n",
      "51614567    [CLS] [UNK] | ##[ ##F ##R ##] A ##vel ##ia H #...\n",
      "Name: sentence, Length: 3564, dtype: object\n"
     ]
    }
   ],
   "source": [
    "# OOV 포함 문장 확인\n",
    "print(corpus[corpus['sentence'].str.contains(\"[UNK]\", regex=False, case=True)]['sentence'])"
   ]
  },
  {
   "cell_type": "code",
   "execution_count": 22,
   "metadata": {},
   "outputs": [],
   "source": [
    "# orig_composed\n",
    "corpus = pd.read_csv('/run/user/1000/gvfs/afp-volume:host=L8221.local,user=bongseok,volume=공유폴더/양봉석/bpe_tokenized/32k/morpheme_mecab_orig_composed_grammatical_symbol_F_txt', \n",
    "                     sep='\\t', names=['sentence'])"
   ]
  },
  {
   "cell_type": "code",
   "execution_count": 23,
   "metadata": {},
   "outputs": [
    {
     "name": "stdout",
     "output_type": "stream",
     "text": [
      "173 4407791098 3.924868401283749e-06\n"
     ]
    }
   ],
   "source": [
    "oov_count, token_count, rate = getOOVdividedbyAllTokens(corpus)\n",
    "print(oov_count, token_count, rate)"
   ]
  },
  {
   "cell_type": "code",
   "execution_count": 24,
   "metadata": {},
   "outputs": [
    {
     "name": "stdout",
     "output_type": "stream",
     "text": [
      "(153, 51630038, 2.963391194869932e-06)\n"
     ]
    }
   ],
   "source": [
    "OR = getOOVsentencePerSentences(corpus['sentence'])\n",
    "print(OR)"
   ]
  },
  {
   "cell_type": "code",
   "execution_count": 25,
   "metadata": {},
   "outputs": [],
   "source": [
    "corpus['OOV_rate'] = corpus['sentence'].apply(lambda x: getOOVRatePerSentence(x))"
   ]
  },
  {
   "cell_type": "code",
   "execution_count": 26,
   "metadata": {},
   "outputs": [],
   "source": [
    "corpus['OC'] = corpus['sentence'].apply(lambda x: getCountofallOOV(x))"
   ]
  },
  {
   "cell_type": "code",
   "execution_count": 27,
   "metadata": {},
   "outputs": [
    {
     "name": "stdout",
     "output_type": "stream",
     "text": [
      "1.9926507302732258e-05 \n",
      " 3.3507625928921455e-06 \n",
      " 173\n"
     ]
    }
   ],
   "source": [
    "print(corpus['OOV_rate'].mean(), '\\n', corpus['OC'].mean(), '\\n', corpus['OC'].sum())"
   ]
  },
  {
   "cell_type": "code",
   "execution_count": 28,
   "metadata": {},
   "outputs": [
    {
     "data": {
      "text/html": [
       "<div>\n",
       "<style scoped>\n",
       "    .dataframe tbody tr th:only-of-type {\n",
       "        vertical-align: middle;\n",
       "    }\n",
       "\n",
       "    .dataframe tbody tr th {\n",
       "        vertical-align: top;\n",
       "    }\n",
       "\n",
       "    .dataframe thead th {\n",
       "        text-align: right;\n",
       "    }\n",
       "</style>\n",
       "<table border=\"1\" class=\"dataframe\">\n",
       "  <thead>\n",
       "    <tr style=\"text-align: right;\">\n",
       "      <th></th>\n",
       "      <th>sentence</th>\n",
       "      <th>OC</th>\n",
       "      <th>token_count</th>\n",
       "      <th>OOV_rate</th>\n",
       "    </tr>\n",
       "  </thead>\n",
       "  <tbody>\n",
       "    <tr>\n",
       "      <th>0</th>\n",
       "      <td>[CLS] 신 세계수 의 미궁 2 에서 뜬 ! ! 아 ##앗 ! ! [SEP]</td>\n",
       "      <td>0</td>\n",
       "      <td>43</td>\n",
       "      <td>0.0</td>\n",
       "    </tr>\n",
       "    <tr>\n",
       "      <th>1</th>\n",
       "      <td>[CLS] 세계수 의 미궁 시리즈 에 전통 으로 등장 하 는 대사 . 2 편 부터 ...</td>\n",
       "      <td>0</td>\n",
       "      <td>81</td>\n",
       "      <td>0.0</td>\n",
       "    </tr>\n",
       "    <tr>\n",
       "      <th>2</th>\n",
       "      <td>[CLS] 세계수 의 모험가 들 이 탐험 하 는 던전 인 수 ##해 의 구석 ##구...</td>\n",
       "      <td>0</td>\n",
       "      <td>151</td>\n",
       "      <td>0.0</td>\n",
       "    </tr>\n",
       "    <tr>\n",
       "      <th>3</th>\n",
       "      <td>[CLS] 그러나 분배 할 수 있 는 스킬 포인트 는 한정 되 어 있 기 때문 에 ...</td>\n",
       "      <td>0</td>\n",
       "      <td>96</td>\n",
       "      <td>0.0</td>\n",
       "    </tr>\n",
       "    <tr>\n",
       "      <th>4</th>\n",
       "      <td>[CLS] 아 ##앗 ! ! 이 발생 하 는 과정 을 요약 하 면 다음 과 같 다 ...</td>\n",
       "      <td>0</td>\n",
       "      <td>53</td>\n",
       "      <td>0.0</td>\n",
       "    </tr>\n",
       "  </tbody>\n",
       "</table>\n",
       "</div>"
      ],
      "text/plain": [
       "                                            sentence  OC  token_count  \\\n",
       "0        [CLS] 신 세계수 의 미궁 2 에서 뜬 ! ! 아 ##앗 ! ! [SEP]   0           43   \n",
       "1  [CLS] 세계수 의 미궁 시리즈 에 전통 으로 등장 하 는 대사 . 2 편 부터 ...   0           81   \n",
       "2  [CLS] 세계수 의 모험가 들 이 탐험 하 는 던전 인 수 ##해 의 구석 ##구...   0          151   \n",
       "3  [CLS] 그러나 분배 할 수 있 는 스킬 포인트 는 한정 되 어 있 기 때문 에 ...   0           96   \n",
       "4  [CLS] 아 ##앗 ! ! 이 발생 하 는 과정 을 요약 하 면 다음 과 같 다 ...   0           53   \n",
       "\n",
       "   OOV_rate  \n",
       "0       0.0  \n",
       "1       0.0  \n",
       "2       0.0  \n",
       "3       0.0  \n",
       "4       0.0  "
      ]
     },
     "execution_count": 28,
     "metadata": {},
     "output_type": "execute_result"
    }
   ],
   "source": [
    "corpus.head()"
   ]
  },
  {
   "cell_type": "code",
   "execution_count": 29,
   "metadata": {},
   "outputs": [
    {
     "name": "stdout",
     "output_type": "stream",
     "text": [
      "2157462     [CLS] 위 에선 킥 킥 이 라고 하 지만 사람 에 따라 ' [UNK] ' ' 컄...\n",
      "2166324     [CLS] 바리 에 이 션 으로 쌩 쏙 옙 , 싱 깍 옙 , [UNK] , 쌀 곤 ...\n",
      "2186208     [CLS] 에 ##에 유메 오 ##치 ! ? 안 이나 야 ##츠 쟌 ! 안 이나 야...\n",
      "2283509                     [CLS] 닭 이 언제 부터 [UNK] 울 었 지 [SEP]\n",
      "2378438       [CLS] ㅎ 해 핼 해리 [UNK] ㅅ 시 ##실 시리 맂 ##리 ##즈 [SEP]\n",
      "                                  ...                        \n",
      "50690326    [CLS] 애초 에 횡단 보도 를 건 ##널 때 신호 ##등 도 안 보 고 차 들 ...\n",
      "50812484    [CLS] 오늘 닐 기 ㅈ 댜 [UNK] 랴 ㅕ ##다 ##ㅗ ##ㄴ ##ㅇ ##ㅁ...\n",
      "50867913           [CLS] 황 ##훈 {{{- 2 을 란 홍 더 [UNK] }}} [SEP]\n",
      "50867938           [CLS] 황 ##훈 {{{- 2 을 란 홍 더 [UNK] }}} [SEP]\n",
      "50918255            [CLS] 쿵 ##쾅 북 치 고 티 ##키 타카 헤드 [UNK] [SEP]\n",
      "Name: sentence, Length: 153, dtype: object\n"
     ]
    }
   ],
   "source": [
    "# OOV 포함 문장 확인\n",
    "print(corpus[corpus['sentence'].str.contains(\"[UNK]\", regex=False, case=True)]['sentence'])"
   ]
  },
  {
   "cell_type": "code",
   "execution_count": 10,
   "metadata": {},
   "outputs": [],
   "source": [
    "# orig_pure\n",
    "corpus = pd.read_csv('/run/user/1000/gvfs/afp-volume:host=L8221.local,user=bongseok,volume=공유폴더/양봉석/bpe_tokenized/32k/morpheme_mecab_orig_decomposed_pure_grammatical_symbol_F_txt', \n",
    "                     sep='\\t', names=['sentence'])"
   ]
  },
  {
   "cell_type": "code",
   "execution_count": 11,
   "metadata": {},
   "outputs": [
    {
     "name": "stdout",
     "output_type": "stream",
     "text": [
      "0 6931900436 0.0\n"
     ]
    }
   ],
   "source": [
    "oov_count, token_count, rate = getOOVdividedbyAllTokens(corpus)\n",
    "print(oov_count, token_count, rate)"
   ]
  },
  {
   "cell_type": "code",
   "execution_count": 12,
   "metadata": {},
   "outputs": [
    {
     "name": "stdout",
     "output_type": "stream",
     "text": [
      "(0, 51630038, 0.0)\n"
     ]
    }
   ],
   "source": [
    "OR = getOOVsentencePerSentences(corpus['sentence'])\n",
    "print(OR)"
   ]
  },
  {
   "cell_type": "code",
   "execution_count": 13,
   "metadata": {},
   "outputs": [],
   "source": [
    "corpus['OOV_rate'] = corpus['sentence'].apply(lambda x: getOOVRatePerSentence(x))"
   ]
  },
  {
   "cell_type": "code",
   "execution_count": 14,
   "metadata": {},
   "outputs": [],
   "source": [
    "corpus['OC'] = corpus['sentence'].apply(lambda x: getCountofallOOV(x))"
   ]
  },
  {
   "cell_type": "code",
   "execution_count": 15,
   "metadata": {},
   "outputs": [
    {
     "name": "stdout",
     "output_type": "stream",
     "text": [
      "0.0 \n",
      " 0.0 \n",
      " 0\n"
     ]
    }
   ],
   "source": [
    "print(corpus['OOV_rate'].mean(), '\\n', corpus['OC'].mean(), '\\n', corpus['OC'].sum())"
   ]
  },
  {
   "cell_type": "code",
   "execution_count": 16,
   "metadata": {},
   "outputs": [
    {
     "data": {
      "text/html": [
       "<div>\n",
       "<style scoped>\n",
       "    .dataframe tbody tr th:only-of-type {\n",
       "        vertical-align: middle;\n",
       "    }\n",
       "\n",
       "    .dataframe tbody tr th {\n",
       "        vertical-align: top;\n",
       "    }\n",
       "\n",
       "    .dataframe thead th {\n",
       "        text-align: right;\n",
       "    }\n",
       "</style>\n",
       "<table border=\"1\" class=\"dataframe\">\n",
       "  <thead>\n",
       "    <tr style=\"text-align: right;\">\n",
       "      <th></th>\n",
       "      <th>sentence</th>\n",
       "      <th>OC</th>\n",
       "      <th>token_count</th>\n",
       "      <th>OOV_rate</th>\n",
       "    </tr>\n",
       "  </thead>\n",
       "  <tbody>\n",
       "    <tr>\n",
       "      <th>0</th>\n",
       "      <td>[CLS] 신 세계수 의 미궁 2 에서 뜬 ! ! 아아 ...</td>\n",
       "      <td>0</td>\n",
       "      <td>59</td>\n",
       "      <td>0.0</td>\n",
       "    </tr>\n",
       "    <tr>\n",
       "      <th>1</th>\n",
       "      <td>[CLS] 세계수 의 미궁 시리즈 에 전통 으로 드...</td>\n",
       "      <td>0</td>\n",
       "      <td>137</td>\n",
       "      <td>0.0</td>\n",
       "    </tr>\n",
       "    <tr>\n",
       "      <th>2</th>\n",
       "      <td>[CLS] 세계수 의 모험가 들 이 탐험 하 는 ᄃ...</td>\n",
       "      <td>0</td>\n",
       "      <td>245</td>\n",
       "      <td>0.0</td>\n",
       "    </tr>\n",
       "    <tr>\n",
       "      <th>3</th>\n",
       "      <td>[CLS] 그러나 분배 할 수 있 는 스킬 포인ᄐ...</td>\n",
       "      <td>0</td>\n",
       "      <td>166</td>\n",
       "      <td>0.0</td>\n",
       "    </tr>\n",
       "    <tr>\n",
       "      <th>4</th>\n",
       "      <td>[CLS] 아아 ##ᆺ ! ! 이 발생 하 는 과정 을 ...</td>\n",
       "      <td>0</td>\n",
       "      <td>82</td>\n",
       "      <td>0.0</td>\n",
       "    </tr>\n",
       "  </tbody>\n",
       "</table>\n",
       "</div>"
      ],
      "text/plain": [
       "                                            sentence  OC  token_count  \\\n",
       "0  [CLS] 신 세계수 의 미궁 2 에서 뜬 ! ! 아아 ...   0           59   \n",
       "1  [CLS] 세계수 의 미궁 시리즈 에 전통 으로 드...   0          137   \n",
       "2  [CLS] 세계수 의 모험가 들 이 탐험 하 는 ᄃ...   0          245   \n",
       "3  [CLS] 그러나 분배 할 수 있 는 스킬 포인ᄐ...   0          166   \n",
       "4  [CLS] 아아 ##ᆺ ! ! 이 발생 하 는 과정 을 ...   0           82   \n",
       "\n",
       "   OOV_rate  \n",
       "0       0.0  \n",
       "1       0.0  \n",
       "2       0.0  \n",
       "3       0.0  \n",
       "4       0.0  "
      ]
     },
     "execution_count": 16,
     "metadata": {},
     "output_type": "execute_result"
    }
   ],
   "source": [
    "corpus.head()"
   ]
  },
  {
   "cell_type": "code",
   "execution_count": 17,
   "metadata": {},
   "outputs": [
    {
     "name": "stdout",
     "output_type": "stream",
     "text": [
      "Series([], Name: sentence, dtype: object)\n"
     ]
    }
   ],
   "source": [
    "# OOV 포함 문장 확인\n",
    "print(corpus[corpus['sentence'].str.contains(\"[UNK]\", regex=False, case=True)]['sentence'])"
   ]
  },
  {
   "cell_type": "code",
   "execution_count": 18,
   "metadata": {},
   "outputs": [],
   "source": [
    "# fixed_composed\n",
    "corpus = pd.read_csv('/run/user/1000/gvfs/afp-volume:host=L8221.local,user=bongseok,volume=공유폴더/양봉석/bpe_tokenized/32k/morpheme_mecab_fixed_composed_grammatical_symbol_F_txt', \n",
    "                     sep='\\t', names=['sentence'])"
   ]
  },
  {
   "cell_type": "code",
   "execution_count": 19,
   "metadata": {},
   "outputs": [
    {
     "name": "stdout",
     "output_type": "stream",
     "text": [
      "176 4561042431 3.858766995978424e-06\n"
     ]
    }
   ],
   "source": [
    "oov_count, token_count, rate = getOOVdividedbyAllTokens(corpus)\n",
    "print(oov_count, token_count, rate)"
   ]
  },
  {
   "cell_type": "code",
   "execution_count": 20,
   "metadata": {},
   "outputs": [
    {
     "name": "stdout",
     "output_type": "stream",
     "text": [
      "(156, 51630038, 3.0214969045732643e-06)\n"
     ]
    }
   ],
   "source": [
    "OR = getOOVsentencePerSentences(corpus['sentence'])\n",
    "print(OR)"
   ]
  },
  {
   "cell_type": "code",
   "execution_count": 21,
   "metadata": {},
   "outputs": [],
   "source": [
    "corpus['OOV_rate'] = corpus['sentence'].apply(lambda x: getOOVRatePerSentence(x))"
   ]
  },
  {
   "cell_type": "code",
   "execution_count": 22,
   "metadata": {},
   "outputs": [],
   "source": [
    "corpus['OC'] = corpus['sentence'].apply(lambda x: getCountofallOOV(x))"
   ]
  },
  {
   "cell_type": "code",
   "execution_count": 23,
   "metadata": {},
   "outputs": [
    {
     "name": "stdout",
     "output_type": "stream",
     "text": [
      "1.9612320934193966e-05 \n",
      " 3.4088683025954774e-06 \n",
      " 176\n"
     ]
    }
   ],
   "source": [
    "print(corpus['OOV_rate'].mean(), '\\n', corpus['OC'].mean(), '\\n', corpus['OC'].sum())"
   ]
  },
  {
   "cell_type": "code",
   "execution_count": 24,
   "metadata": {},
   "outputs": [
    {
     "data": {
      "text/html": [
       "<div>\n",
       "<style scoped>\n",
       "    .dataframe tbody tr th:only-of-type {\n",
       "        vertical-align: middle;\n",
       "    }\n",
       "\n",
       "    .dataframe tbody tr th {\n",
       "        vertical-align: top;\n",
       "    }\n",
       "\n",
       "    .dataframe thead th {\n",
       "        text-align: right;\n",
       "    }\n",
       "</style>\n",
       "<table border=\"1\" class=\"dataframe\">\n",
       "  <thead>\n",
       "    <tr style=\"text-align: right;\">\n",
       "      <th></th>\n",
       "      <th>sentence</th>\n",
       "      <th>OC</th>\n",
       "      <th>token_count</th>\n",
       "      <th>OOV_rate</th>\n",
       "    </tr>\n",
       "  </thead>\n",
       "  <tbody>\n",
       "    <tr>\n",
       "      <th>0</th>\n",
       "      <td>[CLS] 신 세계수 의 미궁 2 에서 뜨 ᆫ ! ! 아 ##앗 ! ! [SEP]</td>\n",
       "      <td>0</td>\n",
       "      <td>45</td>\n",
       "      <td>0.0</td>\n",
       "    </tr>\n",
       "    <tr>\n",
       "      <th>1</th>\n",
       "      <td>[CLS] 세계수 의 미궁 시리즈 에 전통 으로 등장 하 는 대사 . 2 편 부터 ...</td>\n",
       "      <td>0</td>\n",
       "      <td>86</td>\n",
       "      <td>0.0</td>\n",
       "    </tr>\n",
       "    <tr>\n",
       "      <th>2</th>\n",
       "      <td>[CLS] 세계수 의 모험가 들 이 탐험 하 는 던전 이 ᆫ 수 ##해 의 구석 #...</td>\n",
       "      <td>0</td>\n",
       "      <td>158</td>\n",
       "      <td>0.0</td>\n",
       "    </tr>\n",
       "    <tr>\n",
       "      <th>3</th>\n",
       "      <td>[CLS] 그러나 분배 하 ᆯ 수 있 는 스킬 포인트 는 한정 되 어 있 기 때문 ...</td>\n",
       "      <td>0</td>\n",
       "      <td>100</td>\n",
       "      <td>0.0</td>\n",
       "    </tr>\n",
       "    <tr>\n",
       "      <th>4</th>\n",
       "      <td>[CLS] 아 ##앗 ! ! 이 발생 하 는 과정 을 요약 하 면 다음 과 같 다 ...</td>\n",
       "      <td>0</td>\n",
       "      <td>53</td>\n",
       "      <td>0.0</td>\n",
       "    </tr>\n",
       "  </tbody>\n",
       "</table>\n",
       "</div>"
      ],
      "text/plain": [
       "                                            sentence  OC  token_count  \\\n",
       "0      [CLS] 신 세계수 의 미궁 2 에서 뜨 ᆫ ! ! 아 ##앗 ! ! [SEP]   0           45   \n",
       "1  [CLS] 세계수 의 미궁 시리즈 에 전통 으로 등장 하 는 대사 . 2 편 부터 ...   0           86   \n",
       "2  [CLS] 세계수 의 모험가 들 이 탐험 하 는 던전 이 ᆫ 수 ##해 의 구석 #...   0          158   \n",
       "3  [CLS] 그러나 분배 하 ᆯ 수 있 는 스킬 포인트 는 한정 되 어 있 기 때문 ...   0          100   \n",
       "4  [CLS] 아 ##앗 ! ! 이 발생 하 는 과정 을 요약 하 면 다음 과 같 다 ...   0           53   \n",
       "\n",
       "   OOV_rate  \n",
       "0       0.0  \n",
       "1       0.0  \n",
       "2       0.0  \n",
       "3       0.0  \n",
       "4       0.0  "
      ]
     },
     "execution_count": 24,
     "metadata": {},
     "output_type": "execute_result"
    }
   ],
   "source": [
    "corpus.head()"
   ]
  },
  {
   "cell_type": "code",
   "execution_count": 25,
   "metadata": {},
   "outputs": [],
   "source": [
    "# fixed_pure\n",
    "\n",
    "corpus = pd.read_csv('/run/user/1000/gvfs/afp-volume:host=L8221.local,user=bongseok,volume=공유폴더/양봉석/bpe_tokenized/32k/morpheme_mecab_fixed_decomposed_pure_grammatical_symbol_F_txt', \n",
    "                     sep='\\t', names=['sentence'])"
   ]
  },
  {
   "cell_type": "code",
   "execution_count": 26,
   "metadata": {},
   "outputs": [
    {
     "name": "stdout",
     "output_type": "stream",
     "text": [
      "0 7083464382 0.0\n"
     ]
    }
   ],
   "source": [
    "oov_count, token_count, rate = getOOVdividedbyAllTokens(corpus)\n",
    "print(oov_count, token_count, rate)"
   ]
  },
  {
   "cell_type": "code",
   "execution_count": 27,
   "metadata": {},
   "outputs": [],
   "source": [
    "OR = getOOVsentencePerSentences(corpus['sentence'])\n"
   ]
  },
  {
   "cell_type": "code",
   "execution_count": 28,
   "metadata": {},
   "outputs": [
    {
     "name": "stdout",
     "output_type": "stream",
     "text": [
      "(0, 51630038, 0.0)\n"
     ]
    }
   ],
   "source": [
    "print(OR)"
   ]
  },
  {
   "cell_type": "code",
   "execution_count": 29,
   "metadata": {},
   "outputs": [],
   "source": [
    "corpus['OOV_rate'] = corpus['sentence'].apply(lambda x: getOOVRatePerSentence(x))"
   ]
  },
  {
   "cell_type": "code",
   "execution_count": 30,
   "metadata": {},
   "outputs": [],
   "source": [
    "corpus['OC'] = corpus['sentence'].apply(lambda x: getCountofallOOV(x))"
   ]
  },
  {
   "cell_type": "code",
   "execution_count": 31,
   "metadata": {},
   "outputs": [
    {
     "name": "stdout",
     "output_type": "stream",
     "text": [
      "0.0 \n",
      " 0.0 \n",
      " 0\n"
     ]
    }
   ],
   "source": [
    "print(corpus['OOV_rate'].mean(), '\\n', corpus['OC'].mean(), '\\n', corpus['OC'].sum())"
   ]
  },
  {
   "cell_type": "code",
   "execution_count": 32,
   "metadata": {},
   "outputs": [
    {
     "data": {
      "text/html": [
       "<div>\n",
       "<style scoped>\n",
       "    .dataframe tbody tr th:only-of-type {\n",
       "        vertical-align: middle;\n",
       "    }\n",
       "\n",
       "    .dataframe tbody tr th {\n",
       "        vertical-align: top;\n",
       "    }\n",
       "\n",
       "    .dataframe thead th {\n",
       "        text-align: right;\n",
       "    }\n",
       "</style>\n",
       "<table border=\"1\" class=\"dataframe\">\n",
       "  <thead>\n",
       "    <tr style=\"text-align: right;\">\n",
       "      <th></th>\n",
       "      <th>sentence</th>\n",
       "      <th>OC</th>\n",
       "      <th>token_count</th>\n",
       "      <th>OOV_rate</th>\n",
       "    </tr>\n",
       "  </thead>\n",
       "  <tbody>\n",
       "    <tr>\n",
       "      <th>0</th>\n",
       "      <td>[CLS] 신 세계수 의 미궁 2 에서 뜨 ᆫ ! ! 아아...</td>\n",
       "      <td>0</td>\n",
       "      <td>60</td>\n",
       "      <td>0.0</td>\n",
       "    </tr>\n",
       "    <tr>\n",
       "      <th>1</th>\n",
       "      <td>[CLS] 세계수 의 미궁 시리즈 에 전통 으로 드...</td>\n",
       "      <td>0</td>\n",
       "      <td>142</td>\n",
       "      <td>0.0</td>\n",
       "    </tr>\n",
       "    <tr>\n",
       "      <th>2</th>\n",
       "      <td>[CLS] 세계수 의 모험가 들 이 탐험 하 는 ᄃ...</td>\n",
       "      <td>0</td>\n",
       "      <td>250</td>\n",
       "      <td>0.0</td>\n",
       "    </tr>\n",
       "    <tr>\n",
       "      <th>3</th>\n",
       "      <td>[CLS] 그러나 분배 하 ᆯ 수 있 는 스킬 포인...</td>\n",
       "      <td>0</td>\n",
       "      <td>168</td>\n",
       "      <td>0.0</td>\n",
       "    </tr>\n",
       "    <tr>\n",
       "      <th>4</th>\n",
       "      <td>[CLS] 아아 ##ᆺ ! ! 이 발생 하 는 과정 을 ...</td>\n",
       "      <td>0</td>\n",
       "      <td>82</td>\n",
       "      <td>0.0</td>\n",
       "    </tr>\n",
       "  </tbody>\n",
       "</table>\n",
       "</div>"
      ],
      "text/plain": [
       "                                            sentence  OC  token_count  \\\n",
       "0  [CLS] 신 세계수 의 미궁 2 에서 뜨 ᆫ ! ! 아아...   0           60   \n",
       "1  [CLS] 세계수 의 미궁 시리즈 에 전통 으로 드...   0          142   \n",
       "2  [CLS] 세계수 의 모험가 들 이 탐험 하 는 ᄃ...   0          250   \n",
       "3  [CLS] 그러나 분배 하 ᆯ 수 있 는 스킬 포인...   0          168   \n",
       "4  [CLS] 아아 ##ᆺ ! ! 이 발생 하 는 과정 을 ...   0           82   \n",
       "\n",
       "   OOV_rate  \n",
       "0       0.0  \n",
       "1       0.0  \n",
       "2       0.0  \n",
       "3       0.0  \n",
       "4       0.0  "
      ]
     },
     "execution_count": 32,
     "metadata": {},
     "output_type": "execute_result"
    }
   ],
   "source": [
    "corpus.head()"
   ]
  },
  {
   "cell_type": "code",
   "execution_count": 33,
   "metadata": {},
   "outputs": [
    {
     "name": "stdout",
     "output_type": "stream",
     "text": [
      "Series([], Name: sentence, dtype: object)\n"
     ]
    }
   ],
   "source": [
    "# OOV 포함 문장 확인\n",
    "print(corpus[corpus['sentence'].str.contains(\"[UNK]\", regex=False, case=True)]['sentence'])"
   ]
  },
  {
   "cell_type": "code",
   "execution_count": 7,
   "metadata": {},
   "outputs": [],
   "source": [
    "#fixed_grammatical\n",
    "corpus = pd.read_csv('/run/user/1000/gvfs/afp-volume:host=L8221.local,user=bongseok,volume=공유폴더/양봉석/bpe_tokenized/32k/morpheme_mecab_fixed_decomposed_grammatical_grammatical_symbol_F_txt', \n",
    "                     sep='\\t', names=['sentence'])"
   ]
  },
  {
   "cell_type": "code",
   "execution_count": 8,
   "metadata": {},
   "outputs": [
    {
     "name": "stdout",
     "output_type": "stream",
     "text": [
      "177 5207220770 3.399126094667194e-06\n"
     ]
    }
   ],
   "source": [
    "oov_count, token_count, rate = getOOVdividedbyAllTokens(corpus)\n",
    "print(oov_count, token_count, rate)"
   ]
  },
  {
   "cell_type": "code",
   "execution_count": 9,
   "metadata": {},
   "outputs": [],
   "source": [
    "OR = getOOVsentencePerSentences(corpus['sentence'])"
   ]
  },
  {
   "cell_type": "code",
   "execution_count": 10,
   "metadata": {},
   "outputs": [
    {
     "name": "stdout",
     "output_type": "stream",
     "text": [
      "(157, 51630038, 3.0408654744743748e-06)\n"
     ]
    }
   ],
   "source": [
    "print(OR)"
   ]
  },
  {
   "cell_type": "code",
   "execution_count": 11,
   "metadata": {},
   "outputs": [],
   "source": [
    "corpus['OOV_rate'] = corpus['sentence'].apply(lambda x: getOOVRatePerSentence(x))"
   ]
  },
  {
   "cell_type": "code",
   "execution_count": 12,
   "metadata": {},
   "outputs": [],
   "source": [
    "corpus['OC'] = corpus['sentence'].apply(lambda x: getCountofallOOV(x))"
   ]
  },
  {
   "cell_type": "code",
   "execution_count": 13,
   "metadata": {},
   "outputs": [
    {
     "name": "stdout",
     "output_type": "stream",
     "text": [
      "1.9580425523499977e-05 \n",
      " 3.4282368724965883e-06 \n",
      " 177\n"
     ]
    }
   ],
   "source": [
    "print(corpus['OOV_rate'].mean(), '\\n', corpus['OC'].mean(), '\\n', corpus['OC'].sum())"
   ]
  },
  {
   "cell_type": "code",
   "execution_count": 14,
   "metadata": {},
   "outputs": [
    {
     "data": {
      "text/html": [
       "<div>\n",
       "<style scoped>\n",
       "    .dataframe tbody tr th:only-of-type {\n",
       "        vertical-align: middle;\n",
       "    }\n",
       "\n",
       "    .dataframe tbody tr th {\n",
       "        vertical-align: top;\n",
       "    }\n",
       "\n",
       "    .dataframe thead th {\n",
       "        text-align: right;\n",
       "    }\n",
       "</style>\n",
       "<table border=\"1\" class=\"dataframe\">\n",
       "  <thead>\n",
       "    <tr style=\"text-align: right;\">\n",
       "      <th></th>\n",
       "      <th>sentence</th>\n",
       "      <th>OC</th>\n",
       "      <th>token_count</th>\n",
       "      <th>OOV_rate</th>\n",
       "    </tr>\n",
       "  </thead>\n",
       "  <tbody>\n",
       "    <tr>\n",
       "      <th>0</th>\n",
       "      <td>[CLS] 신 세계수 의 미궁 2 에서 뜨 ᆫ ! ! 아 ##앗 ! ! [SEP]</td>\n",
       "      <td>0</td>\n",
       "      <td>48</td>\n",
       "      <td>0.0</td>\n",
       "    </tr>\n",
       "    <tr>\n",
       "      <th>1</th>\n",
       "      <td>[CLS] 세계수 의 미궁 시리즈 에 전통 으로 등장 하 는 대사 . 2...</td>\n",
       "      <td>0</td>\n",
       "      <td>100</td>\n",
       "      <td>0.0</td>\n",
       "    </tr>\n",
       "    <tr>\n",
       "      <th>2</th>\n",
       "      <td>[CLS] 세계수 의 모험가 들 이 탐험 하 는 던전 이 ᆫ 수 ##해 의...</td>\n",
       "      <td>0</td>\n",
       "      <td>179</td>\n",
       "      <td>0.0</td>\n",
       "    </tr>\n",
       "    <tr>\n",
       "      <th>3</th>\n",
       "      <td>[CLS] 그러나 분배 하 ᆯ 수 있 는 스킬 포인트 는 한정 되 어 있 ...</td>\n",
       "      <td>0</td>\n",
       "      <td>115</td>\n",
       "      <td>0.0</td>\n",
       "    </tr>\n",
       "    <tr>\n",
       "      <th>4</th>\n",
       "      <td>[CLS] 아 ##앗 ! ! 이 발생 하 는 과정 을 요약 하 면 다음...</td>\n",
       "      <td>0</td>\n",
       "      <td>62</td>\n",
       "      <td>0.0</td>\n",
       "    </tr>\n",
       "  </tbody>\n",
       "</table>\n",
       "</div>"
      ],
      "text/plain": [
       "                                            sentence  OC  token_count  \\\n",
       "0   [CLS] 신 세계수 의 미궁 2 에서 뜨 ᆫ ! ! 아 ##앗 ! ! [SEP]   0           48   \n",
       "1  [CLS] 세계수 의 미궁 시리즈 에 전통 으로 등장 하 는 대사 . 2...   0          100   \n",
       "2  [CLS] 세계수 의 모험가 들 이 탐험 하 는 던전 이 ᆫ 수 ##해 의...   0          179   \n",
       "3  [CLS] 그러나 분배 하 ᆯ 수 있 는 스킬 포인트 는 한정 되 어 있 ...   0          115   \n",
       "4  [CLS] 아 ##앗 ! ! 이 발생 하 는 과정 을 요약 하 면 다음...   0           62   \n",
       "\n",
       "   OOV_rate  \n",
       "0       0.0  \n",
       "1       0.0  \n",
       "2       0.0  \n",
       "3       0.0  \n",
       "4       0.0  "
      ]
     },
     "execution_count": 14,
     "metadata": {},
     "output_type": "execute_result"
    }
   ],
   "source": [
    "corpus.head()"
   ]
  },
  {
   "cell_type": "code",
   "execution_count": 15,
   "metadata": {},
   "outputs": [
    {
     "name": "stdout",
     "output_type": "stream",
     "text": [
      "2157462     [CLS] 위 에서 ᆫ 킥 킥 이 라고 하 지만 사람 에 따르 아 ...\n",
      "2166324     [CLS] 바리 에 이 션 으로 쌩 쏙 옙 , 싱 깍 옙 , [UNK] , 쌀...\n",
      "2186208     [CLS] 에 ##에 유메 오 ##치 ! ? 안 이나 야 ##츠 쟌 ! 안 이...\n",
      "2283509               [CLS] 닭 이 언제 부터 [UNK] 울 었 지 [SEP]\n",
      "2378438     [CLS] ㅎ 하 아 핼 해리 [UNK] ㅅ 시 ##실 시리 맂 ##리 ##즈 [...\n",
      "                                  ...                        \n",
      "50690326    [CLS] 애초 에 횡단 보도 를 건너 ᆯ 때 신호 ##등 도 안 보 고 ...\n",
      "50812484    [CLS] 오늘 닐 기 ㅈ 되 야 [UNK] 이 랴 ㅕ ##다 ##ㅗ ##ㄴ ...\n",
      "50867913           [CLS] 황 ##훈 {{{- 2 을 란 홍 더 [UNK] }}} [SEP]\n",
      "50867938           [CLS] 황 ##훈 {{{- 2 을 란 홍 더 [UNK] }}} [SEP]\n",
      "50918255           [CLS] 쿵 ##쾅 북 치 고 티 ##키 타카 헤드 [UNK] [SEP]\n",
      "Name: sentence, Length: 157, dtype: object\n"
     ]
    }
   ],
   "source": [
    "# OOV 포함 문장 확인\n",
    "print(corpus[corpus['sentence'].str.contains(\"[UNK]\", regex=False, case=True)]['sentence'])"
   ]
  },
  {
   "cell_type": "code",
   "execution_count": 16,
   "metadata": {},
   "outputs": [],
   "source": [
    "#fixed_lexical"
   ]
  },
  {
   "cell_type": "code",
   "execution_count": 17,
   "metadata": {},
   "outputs": [],
   "source": [
    "corpus = pd.read_csv('/run/user/1000/gvfs/afp-volume:host=L8221.local,user=bongseok,volume=공유폴더/양봉석/bpe_tokenized/32k/morpheme_mecab_fixed_decomposed_lexical_grammatical_symbol_F_txt', \n",
    "                     sep='\\t', names=['sentence'])"
   ]
  },
  {
   "cell_type": "code",
   "execution_count": 18,
   "metadata": {},
   "outputs": [
    {
     "name": "stdout",
     "output_type": "stream",
     "text": [
      "31 6448150346 4.807580210847646e-07\n"
     ]
    }
   ],
   "source": [
    "oov_count, token_count, rate = getOOVdividedbyAllTokens(corpus)\n",
    "print(oov_count, token_count, rate)"
   ]
  },
  {
   "cell_type": "code",
   "execution_count": 19,
   "metadata": {},
   "outputs": [],
   "source": [
    "OR = getOOVsentencePerSentences(corpus['sentence'])"
   ]
  },
  {
   "cell_type": "code",
   "execution_count": 20,
   "metadata": {},
   "outputs": [
    {
     "name": "stdout",
     "output_type": "stream",
     "text": [
      "(31, 51630038, 6.004256669344307e-07)\n"
     ]
    }
   ],
   "source": [
    "print(OR)"
   ]
  },
  {
   "cell_type": "code",
   "execution_count": 21,
   "metadata": {},
   "outputs": [],
   "source": [
    "corpus['OOV_rate'] = corpus['sentence'].apply(lambda x: getOOVRatePerSentence(x))"
   ]
  },
  {
   "cell_type": "code",
   "execution_count": 22,
   "metadata": {},
   "outputs": [],
   "source": [
    "corpus['OC'] = corpus['sentence'].apply(lambda x: getCountofallOOV(x))"
   ]
  },
  {
   "cell_type": "code",
   "execution_count": 23,
   "metadata": {},
   "outputs": [
    {
     "name": "stdout",
     "output_type": "stream",
     "text": [
      "2.9228225692590487e-06 \n",
      " 6.004256669344307e-07 \n",
      " 31\n"
     ]
    }
   ],
   "source": [
    "print(corpus['OOV_rate'].mean(), '\\n', corpus['OC'].mean(), '\\n', corpus['OC'].sum())"
   ]
  },
  {
   "cell_type": "code",
   "execution_count": 24,
   "metadata": {},
   "outputs": [
    {
     "data": {
      "text/html": [
       "<div>\n",
       "<style scoped>\n",
       "    .dataframe tbody tr th:only-of-type {\n",
       "        vertical-align: middle;\n",
       "    }\n",
       "\n",
       "    .dataframe tbody tr th {\n",
       "        vertical-align: top;\n",
       "    }\n",
       "\n",
       "    .dataframe thead th {\n",
       "        text-align: right;\n",
       "    }\n",
       "</style>\n",
       "<table border=\"1\" class=\"dataframe\">\n",
       "  <thead>\n",
       "    <tr style=\"text-align: right;\">\n",
       "      <th></th>\n",
       "      <th>sentence</th>\n",
       "      <th>OC</th>\n",
       "      <th>token_count</th>\n",
       "      <th>OOV_rate</th>\n",
       "    </tr>\n",
       "  </thead>\n",
       "  <tbody>\n",
       "    <tr>\n",
       "      <th>0</th>\n",
       "      <td>[CLS] 신 세계수 의 미궁 2 에서 뜨 ᆫ ! ! 아아 ##...</td>\n",
       "      <td>0</td>\n",
       "      <td>57</td>\n",
       "      <td>0.0</td>\n",
       "    </tr>\n",
       "    <tr>\n",
       "      <th>1</th>\n",
       "      <td>[CLS] 세계수 의 미궁 시리즈 에 전통 으로 등장...</td>\n",
       "      <td>0</td>\n",
       "      <td>128</td>\n",
       "      <td>0.0</td>\n",
       "    </tr>\n",
       "    <tr>\n",
       "      <th>2</th>\n",
       "      <td>[CLS] 세계수 의 모험가 들 이 탐험 하 는 던저...</td>\n",
       "      <td>0</td>\n",
       "      <td>229</td>\n",
       "      <td>0.0</td>\n",
       "    </tr>\n",
       "    <tr>\n",
       "      <th>3</th>\n",
       "      <td>[CLS] 그러나 분배 하 ᆯ 수 있 는 스킬 포인트...</td>\n",
       "      <td>0</td>\n",
       "      <td>153</td>\n",
       "      <td>0.0</td>\n",
       "    </tr>\n",
       "    <tr>\n",
       "      <th>4</th>\n",
       "      <td>[CLS] 아아 ##ᆺ ! ! 이 발생 하 는 과정 을 요약...</td>\n",
       "      <td>0</td>\n",
       "      <td>73</td>\n",
       "      <td>0.0</td>\n",
       "    </tr>\n",
       "  </tbody>\n",
       "</table>\n",
       "</div>"
      ],
      "text/plain": [
       "                                            sentence  OC  token_count  \\\n",
       "0  [CLS] 신 세계수 의 미궁 2 에서 뜨 ᆫ ! ! 아아 ##...   0           57   \n",
       "1  [CLS] 세계수 의 미궁 시리즈 에 전통 으로 등장...   0          128   \n",
       "2  [CLS] 세계수 의 모험가 들 이 탐험 하 는 던저...   0          229   \n",
       "3  [CLS] 그러나 분배 하 ᆯ 수 있 는 스킬 포인트...   0          153   \n",
       "4  [CLS] 아아 ##ᆺ ! ! 이 발생 하 는 과정 을 요약...   0           73   \n",
       "\n",
       "   OOV_rate  \n",
       "0       0.0  \n",
       "1       0.0  \n",
       "2       0.0  \n",
       "3       0.0  \n",
       "4       0.0  "
      ]
     },
     "execution_count": 24,
     "metadata": {},
     "output_type": "execute_result"
    }
   ],
   "source": [
    "corpus.head()"
   ]
  },
  {
   "cell_type": "code",
   "execution_count": 25,
   "metadata": {},
   "outputs": [
    {
     "name": "stdout",
     "output_type": "stream",
     "text": [
      "11597712    [CLS] 2018 년 리그 우승 축 승 ##회 에서 \" 2 ...\n",
      "29815786             [CLS] 나 의 사랑 정말 보이 [UNK] [SEP]\n",
      "36286913    [CLS] 그리고 , SCP - 03 ##5 의 가면 을 쓰 면 HP ...\n",
      "36792153    [CLS] * 그 가 그 학교 를 보 ᆫ ##즉 먹 음직 도 하 고...\n",
      "44638460    [CLS] - 데이 : 히 ##ᆼ . .. 미안 하 ㅕ . 다음 ...\n",
      "44692077    [CLS] 아까 다 하 ᆫ다 캐 었 [UNK] 서 러 이제 ᆫ 또 ...\n",
      "44692078    [CLS] 이 문장 을 들 은 사람 들 은 듣 자마자 \" ...\n",
      "44692313       [CLS] 묵 [UNK] 서 러 하 아라 먹 으면서 하 아라 [SEP]\n",
      "45698594    [CLS] # 000000 , # e 5 e 5 e 5 {{{- 2 안산 ᄃ...\n",
      "48720006    [CLS] 주변 의 백발 에 희 ᆫ 눈동자 를 가지 고 ...\n",
      "48823268    [CLS] 짓 - + - 민 = 짓 이민 / 짓 [UNK] [SEP]\n",
      "48823270    [CLS] - 고 - 지 - [UNK] - 으 ##난 - 언 - 엇 수ᄃ...\n",
      "48823271    [CLS] 잇 다 잇 고 잇 지 잇 이민 / 잇 [UNK] ...\n",
      "48823275    [CLS] - 고 - 지 - [UNK] - 으 ##난 - 언 - 엇 수ᄃ...\n",
      "48823276    [CLS] 엇 ##다 엇 고 엇 ##지 엇 이민 / 엇 [UNK...\n",
      "48823278    [CLS] 없 다 없 고 없 지 없이 민 / 없 [UNK] ...\n",
      "48823279    [CLS] 으 ##ᆹ 다 으 ##ᆹ 고 으 ##ᆹ 지 으 ##ᆹ ##이 ᄆ...\n",
      "48823353    [CLS] ' 걸 [UNK] ' 는 ' 것 ᆯ 민 ' 이라고 하 ᆯ ᄉ...\n",
      "48823458    [CLS] 영 [UNK] 알 아지 크 냐 ? < 이렇게 말 하...\n",
      "48823692    [CLS] - 안티 - 한테 , - 에게 이제 우리 덜 안티 ...\n",
      "48823794    [CLS] 낚 으 ##다 [ ] 낚 안 낚 [UNK] 낚 으 곡 ...\n",
      "48823795    [CLS] 조 ##ᆾ 다 [ ] 조 ##ᆾ 안 조 ##ᆾ [UNK] / ᄌ...\n",
      "48823796           [CLS] 다 [ ] 안 [UNK] / 이민 곡 는 [SEP]\n",
      "48823806    [CLS] ' 이 시민 , 잇 이민 ' 을 ' 잇 [UNK] '...\n",
      "48823812    [CLS] - 고 - 지 - [UNK] - 으 ##난 - 언 - 엇 수ᄃ...\n",
      "48823813    [CLS] 잇 다 잇 고 잇 지 잇 이민 / 잇 [UNK] ...\n",
      "48823814    [CLS] 엇 ##다 엇 고 엇 ##지 엇 이민 / 엇 [UNK...\n",
      "48824905    [CLS] ' 철 ' 자체 는 ' 뻘 ' 이 라는 뜻 을 갖 고...\n",
      "48824912    [CLS] 이 또한 지금 은 명시 하 는 예 가 없 지만 ...\n",
      "49089528    [CLS] - ㄴ 이 고 무신 거 렌 [UNK] ᄃ ##ᅰ ##ᆯ 처...\n",
      "50085531    [CLS] 아까 침 에 우리 아가 썰 ##리 는 것 ᆯ 보...\n",
      "Name: sentence, dtype: object\n"
     ]
    }
   ],
   "source": [
    "# OOV 포함 문장 확인\n",
    "print(corpus[corpus['sentence'].str.contains(\"[UNK]\", regex=False, case=True)]['sentence'])"
   ]
  },
  {
   "cell_type": "markdown",
   "metadata": {},
   "source": [
    "## T"
   ]
  },
  {
   "cell_type": "code",
   "execution_count": 26,
   "metadata": {},
   "outputs": [],
   "source": [
    "# fixed_composed_T\n",
    "corpus = pd.read_csv('/run/user/1000/gvfs/afp-volume:host=L8221.local,user=bongseok,volume=공유폴더/양봉석/bpe_tokenized/32k/morpheme_mecab_fixed_composed_grammatical_symbol_T_txt', \n",
    "                     sep='\\t', names=['sentence'])"
   ]
  },
  {
   "cell_type": "code",
   "execution_count": 27,
   "metadata": {},
   "outputs": [
    {
     "name": "stdout",
     "output_type": "stream",
     "text": [
      "177 5028068902 3.5202381560363116e-06\n"
     ]
    }
   ],
   "source": [
    "oov_count, token_count, rate = getOOVdividedbyAllTokens(corpus)\n",
    "print(oov_count, token_count, rate)"
   ]
  },
  {
   "cell_type": "code",
   "execution_count": 28,
   "metadata": {},
   "outputs": [
    {
     "name": "stdout",
     "output_type": "stream",
     "text": [
      "(157, 51630038, 3.0408654744743748e-06)\n"
     ]
    }
   ],
   "source": [
    "OR = getOOVsentencePerSentences(corpus['sentence'])\n",
    "    \n",
    "print(OR)"
   ]
  },
  {
   "cell_type": "code",
   "execution_count": 29,
   "metadata": {},
   "outputs": [],
   "source": [
    "corpus['OOV_rate'] = corpus['sentence'].apply(lambda x: getOOVRatePerSentence(x))"
   ]
  },
  {
   "cell_type": "code",
   "execution_count": 30,
   "metadata": {},
   "outputs": [],
   "source": [
    "corpus['OC'] = corpus['sentence'].apply(lambda x: getCountofallOOV(x))"
   ]
  },
  {
   "cell_type": "code",
   "execution_count": 31,
   "metadata": {},
   "outputs": [
    {
     "name": "stdout",
     "output_type": "stream",
     "text": [
      "1.9822626368727764e-05 \n",
      " 3.4282368724965883e-06 \n",
      " 177\n"
     ]
    }
   ],
   "source": [
    "print(corpus['OOV_rate'].mean(), '\\n', corpus['OC'].mean(), '\\n', corpus['OC'].sum())"
   ]
  },
  {
   "cell_type": "code",
   "execution_count": 32,
   "metadata": {},
   "outputs": [
    {
     "data": {
      "text/html": [
       "<div>\n",
       "<style scoped>\n",
       "    .dataframe tbody tr th:only-of-type {\n",
       "        vertical-align: middle;\n",
       "    }\n",
       "\n",
       "    .dataframe tbody tr th {\n",
       "        vertical-align: top;\n",
       "    }\n",
       "\n",
       "    .dataframe thead th {\n",
       "        text-align: right;\n",
       "    }\n",
       "</style>\n",
       "<table border=\"1\" class=\"dataframe\">\n",
       "  <thead>\n",
       "    <tr style=\"text-align: right;\">\n",
       "      <th></th>\n",
       "      <th>sentence</th>\n",
       "      <th>OC</th>\n",
       "      <th>token_count</th>\n",
       "      <th>OOV_rate</th>\n",
       "    </tr>\n",
       "  </thead>\n",
       "  <tbody>\n",
       "    <tr>\n",
       "      <th>0</th>\n",
       "      <td>[CLS] 신 세계수 ⫸의 미궁 2 ⫸에서 뜨 ⭧ᆫ ! ! 아 ##앗 ! ! [SEP]</td>\n",
       "      <td>0</td>\n",
       "      <td>48</td>\n",
       "      <td>0.0</td>\n",
       "    </tr>\n",
       "    <tr>\n",
       "      <th>1</th>\n",
       "      <td>[CLS] 세계수 ⫸의 미궁 시리즈 ⫸에 전통 ⫸으로 등장 하 ⭧는 대사 . 2 편...</td>\n",
       "      <td>0</td>\n",
       "      <td>96</td>\n",
       "      <td>0.0</td>\n",
       "    </tr>\n",
       "    <tr>\n",
       "      <th>2</th>\n",
       "      <td>[CLS] 세계수 ⫸의 모험가 들 ⫸이 탐험 하 ⭧는 던전 이 ⭧ᆫ 수 ##해 ⫸의...</td>\n",
       "      <td>0</td>\n",
       "      <td>177</td>\n",
       "      <td>0.0</td>\n",
       "    </tr>\n",
       "    <tr>\n",
       "      <th>3</th>\n",
       "      <td>[CLS] 그러나 분배 하 ⭧ᆯ 수 있 ⭧는 스킬 포인트 ⫸는 한정 되 ⭧어 있 ⭧...</td>\n",
       "      <td>0</td>\n",
       "      <td>112</td>\n",
       "      <td>0.0</td>\n",
       "    </tr>\n",
       "    <tr>\n",
       "      <th>4</th>\n",
       "      <td>[CLS] 아 ##앗 ! ! ⫸이 발생 하 ⭧는 과정 ⫸을 요약 하 ⭧면 다음 ⫸과...</td>\n",
       "      <td>0</td>\n",
       "      <td>59</td>\n",
       "      <td>0.0</td>\n",
       "    </tr>\n",
       "  </tbody>\n",
       "</table>\n",
       "</div>"
      ],
      "text/plain": [
       "                                            sentence  OC  token_count  \\\n",
       "0   [CLS] 신 세계수 ⫸의 미궁 2 ⫸에서 뜨 ⭧ᆫ ! ! 아 ##앗 ! ! [SEP]   0           48   \n",
       "1  [CLS] 세계수 ⫸의 미궁 시리즈 ⫸에 전통 ⫸으로 등장 하 ⭧는 대사 . 2 편...   0           96   \n",
       "2  [CLS] 세계수 ⫸의 모험가 들 ⫸이 탐험 하 ⭧는 던전 이 ⭧ᆫ 수 ##해 ⫸의...   0          177   \n",
       "3  [CLS] 그러나 분배 하 ⭧ᆯ 수 있 ⭧는 스킬 포인트 ⫸는 한정 되 ⭧어 있 ⭧...   0          112   \n",
       "4  [CLS] 아 ##앗 ! ! ⫸이 발생 하 ⭧는 과정 ⫸을 요약 하 ⭧면 다음 ⫸과...   0           59   \n",
       "\n",
       "   OOV_rate  \n",
       "0       0.0  \n",
       "1       0.0  \n",
       "2       0.0  \n",
       "3       0.0  \n",
       "4       0.0  "
      ]
     },
     "execution_count": 32,
     "metadata": {},
     "output_type": "execute_result"
    }
   ],
   "source": [
    "corpus.head()"
   ]
  },
  {
   "cell_type": "code",
   "execution_count": 33,
   "metadata": {},
   "outputs": [
    {
     "name": "stdout",
     "output_type": "stream",
     "text": [
      "2157462     [CLS] 위 ⫸에서 ⫸ᆫ 킥 킥 이 ⭧라고 하 ⭧지만 사람 ⫸에 따르 ⭧아 ' [...\n",
      "2166324     [CLS] 바리 ⫸에 이 션 ⫸으로 쌩 쏙 옙 , 싱 깍 옙 , [UNK] , 쌀 ...\n",
      "2186208     [CLS] 에 ##에 유메 오 ##치 ! ? 안 ⫸이나 야 ##츠 쟌 ! 안 ⫸이나...\n",
      "2283509                 [CLS] 닭 ⫸이 언제 ⫸부터 [UNK] 울 ⭧었 ⭧지 [SEP]\n",
      "2378438     [CLS] ㅎ 하 ⭧아 핼 해리 [UNK] ㅅ 시 ##실 시리 맂 ##리 ##즈 [...\n",
      "                                  ...                        \n",
      "50690326    [CLS] 애초 ⫸에 횡단 보도 ⫸를 건너 ⭧ᆯ 때 신호 ##등 ⫸도 안 보 ⭧고 ...\n",
      "50812484    [CLS] 오늘 닐 ⭧기 ㅈ 되 ⭧야 [UNK] 이 ⭧ ##랴 ㅕ ##다 ##ㅗ #...\n",
      "50867913           [CLS] 황 ##훈 {{{- 2 을 란 홍 더 [UNK] }}} [SEP]\n",
      "50867938           [CLS] 황 ##훈 {{{- 2 을 란 홍 더 [UNK] }}} [SEP]\n",
      "50918255           [CLS] 쿵 ##쾅 북 치 ⭧고 티 ##키 타카 헤드 [UNK] [SEP]\n",
      "Name: sentence, Length: 157, dtype: object\n"
     ]
    }
   ],
   "source": [
    "# OOV 포함 문장 확인\n",
    "print(corpus[corpus['sentence'].str.contains(\"[UNK]\", regex=False, case=True)]['sentence'])"
   ]
  },
  {
   "cell_type": "code",
   "execution_count": 10,
   "metadata": {},
   "outputs": [],
   "source": [
    "# fixed_pure_T\n",
    "corpus = pd.read_csv('/run/user/1000/gvfs/afp-volume:host=L8221.local,user=bongseok,volume=공유폴더/양봉석/bpe_tokenized/32k/morpheme_mecab_fixed_decomposed_pure_grammatical_symbol_T_txt', \n",
    "                     sep='\\t', names=['sentence'])"
   ]
  },
  {
   "cell_type": "code",
   "execution_count": 11,
   "metadata": {},
   "outputs": [
    {
     "name": "stdout",
     "output_type": "stream",
     "text": [
      "0 7547752175 0.0\n"
     ]
    }
   ],
   "source": [
    "oov_count, token_count, rate = getOOVdividedbyAllTokens(corpus)\n",
    "print(oov_count, token_count, rate)"
   ]
  },
  {
   "cell_type": "code",
   "execution_count": null,
   "metadata": {},
   "outputs": [],
   "source": [
    "OR = getOOVsentencePerSentences(corpus['sentence'])\n",
    "    \n",
    "print(OR)"
   ]
  },
  {
   "cell_type": "code",
   "execution_count": 12,
   "metadata": {
    "scrolled": true
   },
   "outputs": [
    {
     "ename": "KeyboardInterrupt",
     "evalue": "",
     "output_type": "error",
     "traceback": [
      "\u001b[0;31m---------------------------------------------------------------------------\u001b[0m",
      "\u001b[0;31mKeyboardInterrupt\u001b[0m                         Traceback (most recent call last)",
      "\u001b[0;32m/tmp/ipykernel_4155/540673694.py\u001b[0m in \u001b[0;36m<module>\u001b[0;34m\u001b[0m\n\u001b[0;32m----> 1\u001b[0;31m \u001b[0mcorpus\u001b[0m\u001b[0;34m[\u001b[0m\u001b[0;34m'OOV_rate'\u001b[0m\u001b[0;34m]\u001b[0m \u001b[0;34m=\u001b[0m \u001b[0mcorpus\u001b[0m\u001b[0;34m[\u001b[0m\u001b[0;34m'sentence'\u001b[0m\u001b[0;34m]\u001b[0m\u001b[0;34m.\u001b[0m\u001b[0mapply\u001b[0m\u001b[0;34m(\u001b[0m\u001b[0;32mlambda\u001b[0m \u001b[0mx\u001b[0m\u001b[0;34m:\u001b[0m \u001b[0mgetOOVRatePerSentence\u001b[0m\u001b[0;34m(\u001b[0m\u001b[0mx\u001b[0m\u001b[0;34m)\u001b[0m\u001b[0;34m)\u001b[0m\u001b[0;34m\u001b[0m\u001b[0;34m\u001b[0m\u001b[0m\n\u001b[0m",
      "\u001b[0;32m~/virtualenv/acl/lib/python3.8/site-packages/pandas/core/series.py\u001b[0m in \u001b[0;36mapply\u001b[0;34m(self, func, convert_dtype, args, **kwargs)\u001b[0m\n\u001b[1;32m   4355\u001b[0m         \u001b[0mdtype\u001b[0m\u001b[0;34m:\u001b[0m \u001b[0mfloat64\u001b[0m\u001b[0;34m\u001b[0m\u001b[0;34m\u001b[0m\u001b[0m\n\u001b[1;32m   4356\u001b[0m         \"\"\"\n\u001b[0;32m-> 4357\u001b[0;31m         \u001b[0;32mreturn\u001b[0m \u001b[0mSeriesApply\u001b[0m\u001b[0;34m(\u001b[0m\u001b[0mself\u001b[0m\u001b[0;34m,\u001b[0m \u001b[0mfunc\u001b[0m\u001b[0;34m,\u001b[0m \u001b[0mconvert_dtype\u001b[0m\u001b[0;34m,\u001b[0m \u001b[0margs\u001b[0m\u001b[0;34m,\u001b[0m \u001b[0mkwargs\u001b[0m\u001b[0;34m)\u001b[0m\u001b[0;34m.\u001b[0m\u001b[0mapply\u001b[0m\u001b[0;34m(\u001b[0m\u001b[0;34m)\u001b[0m\u001b[0;34m\u001b[0m\u001b[0;34m\u001b[0m\u001b[0m\n\u001b[0m\u001b[1;32m   4358\u001b[0m \u001b[0;34m\u001b[0m\u001b[0m\n\u001b[1;32m   4359\u001b[0m     def _reduce(\n",
      "\u001b[0;32m~/virtualenv/acl/lib/python3.8/site-packages/pandas/core/apply.py\u001b[0m in \u001b[0;36mapply\u001b[0;34m(self)\u001b[0m\n\u001b[1;32m   1041\u001b[0m             \u001b[0;32mreturn\u001b[0m \u001b[0mself\u001b[0m\u001b[0;34m.\u001b[0m\u001b[0mapply_str\u001b[0m\u001b[0;34m(\u001b[0m\u001b[0;34m)\u001b[0m\u001b[0;34m\u001b[0m\u001b[0;34m\u001b[0m\u001b[0m\n\u001b[1;32m   1042\u001b[0m \u001b[0;34m\u001b[0m\u001b[0m\n\u001b[0;32m-> 1043\u001b[0;31m         \u001b[0;32mreturn\u001b[0m \u001b[0mself\u001b[0m\u001b[0;34m.\u001b[0m\u001b[0mapply_standard\u001b[0m\u001b[0;34m(\u001b[0m\u001b[0;34m)\u001b[0m\u001b[0;34m\u001b[0m\u001b[0;34m\u001b[0m\u001b[0m\n\u001b[0m\u001b[1;32m   1044\u001b[0m \u001b[0;34m\u001b[0m\u001b[0m\n\u001b[1;32m   1045\u001b[0m     \u001b[0;32mdef\u001b[0m \u001b[0magg\u001b[0m\u001b[0;34m(\u001b[0m\u001b[0mself\u001b[0m\u001b[0;34m)\u001b[0m\u001b[0;34m:\u001b[0m\u001b[0;34m\u001b[0m\u001b[0;34m\u001b[0m\u001b[0m\n",
      "\u001b[0;32m~/virtualenv/acl/lib/python3.8/site-packages/pandas/core/apply.py\u001b[0m in \u001b[0;36mapply_standard\u001b[0;34m(self)\u001b[0m\n\u001b[1;32m   1096\u001b[0m                 \u001b[0;31m# List[Union[Callable[..., Any], str]]]]]\"; expected\u001b[0m\u001b[0;34m\u001b[0m\u001b[0;34m\u001b[0m\u001b[0;34m\u001b[0m\u001b[0m\n\u001b[1;32m   1097\u001b[0m                 \u001b[0;31m# \"Callable[[Any], Any]\"\u001b[0m\u001b[0;34m\u001b[0m\u001b[0;34m\u001b[0m\u001b[0;34m\u001b[0m\u001b[0m\n\u001b[0;32m-> 1098\u001b[0;31m                 mapped = lib.map_infer(\n\u001b[0m\u001b[1;32m   1099\u001b[0m                     \u001b[0mvalues\u001b[0m\u001b[0;34m,\u001b[0m\u001b[0;34m\u001b[0m\u001b[0;34m\u001b[0m\u001b[0m\n\u001b[1;32m   1100\u001b[0m                     \u001b[0mf\u001b[0m\u001b[0;34m,\u001b[0m  \u001b[0;31m# type: ignore[arg-type]\u001b[0m\u001b[0;34m\u001b[0m\u001b[0;34m\u001b[0m\u001b[0m\n",
      "\u001b[0;32m~/virtualenv/acl/lib/python3.8/site-packages/pandas/_libs/lib.pyx\u001b[0m in \u001b[0;36mpandas._libs.lib.map_infer\u001b[0;34m()\u001b[0m\n",
      "\u001b[0;32m/tmp/ipykernel_4155/540673694.py\u001b[0m in \u001b[0;36m<lambda>\u001b[0;34m(x)\u001b[0m\n\u001b[0;32m----> 1\u001b[0;31m \u001b[0mcorpus\u001b[0m\u001b[0;34m[\u001b[0m\u001b[0;34m'OOV_rate'\u001b[0m\u001b[0;34m]\u001b[0m \u001b[0;34m=\u001b[0m \u001b[0mcorpus\u001b[0m\u001b[0;34m[\u001b[0m\u001b[0;34m'sentence'\u001b[0m\u001b[0;34m]\u001b[0m\u001b[0;34m.\u001b[0m\u001b[0mapply\u001b[0m\u001b[0;34m(\u001b[0m\u001b[0;32mlambda\u001b[0m \u001b[0mx\u001b[0m\u001b[0;34m:\u001b[0m \u001b[0mgetOOVRatePerSentence\u001b[0m\u001b[0;34m(\u001b[0m\u001b[0mx\u001b[0m\u001b[0;34m)\u001b[0m\u001b[0;34m)\u001b[0m\u001b[0;34m\u001b[0m\u001b[0;34m\u001b[0m\u001b[0m\n\u001b[0m",
      "\u001b[0;32m/tmp/ipykernel_4155/1053887186.py\u001b[0m in \u001b[0;36mgetOOVRatePerSentence\u001b[0;34m(sentence)\u001b[0m\n\u001b[1;32m     10\u001b[0m     \u001b[0;32mexcept\u001b[0m\u001b[0;34m:\u001b[0m\u001b[0;34m\u001b[0m\u001b[0;34m\u001b[0m\u001b[0m\n\u001b[1;32m     11\u001b[0m         \u001b[0;32mpass\u001b[0m\u001b[0;34m\u001b[0m\u001b[0;34m\u001b[0m\u001b[0m\n\u001b[0;32m---> 12\u001b[0;31m     \u001b[0mOOV_rate\u001b[0m \u001b[0;34m=\u001b[0m \u001b[0msentence\u001b[0m\u001b[0;34m.\u001b[0m\u001b[0mcount\u001b[0m\u001b[0;34m(\u001b[0m\u001b[0;34m'[UNK]'\u001b[0m\u001b[0;34m)\u001b[0m \u001b[0;34m/\u001b[0m \u001b[0mlen\u001b[0m\u001b[0;34m(\u001b[0m\u001b[0msentence\u001b[0m\u001b[0;34m)\u001b[0m \u001b[0;34m*\u001b[0m \u001b[0;36m100\u001b[0m\u001b[0;34m\u001b[0m\u001b[0;34m\u001b[0m\u001b[0m\n\u001b[0m\u001b[1;32m     13\u001b[0m \u001b[0;34m\u001b[0m\u001b[0m\n\u001b[1;32m     14\u001b[0m     \u001b[0;32mreturn\u001b[0m \u001b[0mOOV_rate\u001b[0m\u001b[0;34m\u001b[0m\u001b[0;34m\u001b[0m\u001b[0m\n",
      "\u001b[0;31mKeyboardInterrupt\u001b[0m: "
     ]
    }
   ],
   "source": [
    "corpus['OOV_rate'] = corpus['sentence'].apply(lambda x: getOOVRatePerSentence(x))"
   ]
  },
  {
   "cell_type": "code",
   "execution_count": null,
   "metadata": {},
   "outputs": [],
   "source": [
    "corpus['OC'] = corpus['sentence'].apply(lambda x: getCountofallOOV(x))"
   ]
  },
  {
   "cell_type": "code",
   "execution_count": null,
   "metadata": {},
   "outputs": [],
   "source": [
    "print(corpus['OOV_rate'].mean(), '\\n', corpus['OC'].mean(), '\\n', corpus['OC'].sum())"
   ]
  },
  {
   "cell_type": "code",
   "execution_count": null,
   "metadata": {},
   "outputs": [],
   "source": [
    "corpus.head()"
   ]
  },
  {
   "cell_type": "code",
   "execution_count": null,
   "metadata": {},
   "outputs": [],
   "source": [
    "# OOV 포함 문장 확인\n",
    "print(corpus[corpus['sentence'].str.contains(\"[UNK]\", regex=False, case=True)]['sentence'])"
   ]
  },
  {
   "cell_type": "code",
   "execution_count": null,
   "metadata": {},
   "outputs": [],
   "source": [
    "# fixed_grammatical_T"
   ]
  },
  {
   "cell_type": "code",
   "execution_count": 14,
   "metadata": {},
   "outputs": [],
   "source": [
    "corpus = pd.read_csv('/run/user/1000/gvfs/afp-volume:host=L8221.local,user=bongseok,volume=공유폴더/양봉석/bpe_tokenized/32k/morpheme_mecab_fixed_decomposed_grammatical_grammatical_symbol_T_txt', \n",
    "                     sep='\\t', names=['sentence'])"
   ]
  },
  {
   "cell_type": "code",
   "execution_count": 15,
   "metadata": {},
   "outputs": [
    {
     "name": "stdout",
     "output_type": "stream",
     "text": [
      "177 5671062940 3.121108015775258e-06\n"
     ]
    }
   ],
   "source": [
    "oov_count, token_count, rate = getOOVdividedbyAllTokens(corpus)\n",
    "print(oov_count, token_count, rate)"
   ]
  },
  {
   "cell_type": "code",
   "execution_count": null,
   "metadata": {},
   "outputs": [],
   "source": [
    "OR = getOOVsentencePerSentences(corpus['sentence'])\n",
    "    \n",
    "print(OR)"
   ]
  },
  {
   "cell_type": "code",
   "execution_count": 16,
   "metadata": {},
   "outputs": [],
   "source": [
    "corpus['OOV_rate'] = corpus['sentence'].apply(lambda x: getOOVRatePerSentence(x))"
   ]
  },
  {
   "cell_type": "code",
   "execution_count": 17,
   "metadata": {},
   "outputs": [],
   "source": [
    "corpus['OC'] = corpus['sentence'].apply(lambda x: getCountofallOOV(x))"
   ]
  },
  {
   "cell_type": "code",
   "execution_count": 18,
   "metadata": {},
   "outputs": [
    {
     "name": "stdout",
     "output_type": "stream",
     "text": [
      "1.9524011690390983e-05 \n",
      " 3.4282368724965883e-06 \n",
      " 177\n"
     ]
    }
   ],
   "source": [
    "print(corpus['OOV_rate'].mean(), '\\n', corpus['OC'].mean(), '\\n', corpus['OC'].sum())"
   ]
  },
  {
   "cell_type": "code",
   "execution_count": 19,
   "metadata": {},
   "outputs": [
    {
     "data": {
      "text/html": [
       "<div>\n",
       "<style scoped>\n",
       "    .dataframe tbody tr th:only-of-type {\n",
       "        vertical-align: middle;\n",
       "    }\n",
       "\n",
       "    .dataframe tbody tr th {\n",
       "        vertical-align: top;\n",
       "    }\n",
       "\n",
       "    .dataframe thead th {\n",
       "        text-align: right;\n",
       "    }\n",
       "</style>\n",
       "<table border=\"1\" class=\"dataframe\">\n",
       "  <thead>\n",
       "    <tr style=\"text-align: right;\">\n",
       "      <th></th>\n",
       "      <th>sentence</th>\n",
       "      <th>OC</th>\n",
       "      <th>token_count</th>\n",
       "      <th>OOV_rate</th>\n",
       "    </tr>\n",
       "  </thead>\n",
       "  <tbody>\n",
       "    <tr>\n",
       "      <th>0</th>\n",
       "      <td>[CLS] 신 세계수 ⫸의 미궁 2 ⫸에서 뜨 ⭧ᆫ ! ! 아 ##앗 ! ! ...</td>\n",
       "      <td>0</td>\n",
       "      <td>51</td>\n",
       "      <td>0.0</td>\n",
       "    </tr>\n",
       "    <tr>\n",
       "      <th>1</th>\n",
       "      <td>[CLS] 세계수 ⫸의 미궁 시리즈 ⫸에 전통 ⫸으로 등장 하 ⭧는 대사...</td>\n",
       "      <td>0</td>\n",
       "      <td>110</td>\n",
       "      <td>0.0</td>\n",
       "    </tr>\n",
       "    <tr>\n",
       "      <th>2</th>\n",
       "      <td>[CLS] 세계수 ⫸의 모험가 들 ⫸이 탐험 하 ⭧는 던전 이 ⭧ᆫ 수 ##...</td>\n",
       "      <td>0</td>\n",
       "      <td>198</td>\n",
       "      <td>0.0</td>\n",
       "    </tr>\n",
       "    <tr>\n",
       "      <th>3</th>\n",
       "      <td>[CLS] 그러나 분배 하 ⭧ᆯ 수 있 ⭧는 스킬 포인트 ⫸는 한정 되 ⭧ᄋ...</td>\n",
       "      <td>0</td>\n",
       "      <td>127</td>\n",
       "      <td>0.0</td>\n",
       "    </tr>\n",
       "    <tr>\n",
       "      <th>4</th>\n",
       "      <td>[CLS] 아 ##앗 ! ! ⫸이 발생 하 ⭧는 과정 ⫸을 요약 하 ⭧며...</td>\n",
       "      <td>0</td>\n",
       "      <td>68</td>\n",
       "      <td>0.0</td>\n",
       "    </tr>\n",
       "  </tbody>\n",
       "</table>\n",
       "</div>"
      ],
      "text/plain": [
       "                                            sentence  OC  token_count  \\\n",
       "0  [CLS] 신 세계수 ⫸의 미궁 2 ⫸에서 뜨 ⭧ᆫ ! ! 아 ##앗 ! ! ...   0           51   \n",
       "1  [CLS] 세계수 ⫸의 미궁 시리즈 ⫸에 전통 ⫸으로 등장 하 ⭧는 대사...   0          110   \n",
       "2  [CLS] 세계수 ⫸의 모험가 들 ⫸이 탐험 하 ⭧는 던전 이 ⭧ᆫ 수 ##...   0          198   \n",
       "3  [CLS] 그러나 분배 하 ⭧ᆯ 수 있 ⭧는 스킬 포인트 ⫸는 한정 되 ⭧ᄋ...   0          127   \n",
       "4  [CLS] 아 ##앗 ! ! ⫸이 발생 하 ⭧는 과정 ⫸을 요약 하 ⭧며...   0           68   \n",
       "\n",
       "   OOV_rate  \n",
       "0       0.0  \n",
       "1       0.0  \n",
       "2       0.0  \n",
       "3       0.0  \n",
       "4       0.0  "
      ]
     },
     "execution_count": 19,
     "metadata": {},
     "output_type": "execute_result"
    }
   ],
   "source": [
    "corpus.head()"
   ]
  },
  {
   "cell_type": "code",
   "execution_count": 20,
   "metadata": {},
   "outputs": [
    {
     "name": "stdout",
     "output_type": "stream",
     "text": [
      "2157462     [CLS] 위 ⫸에서 ⫸ᆫ 킥 킥 이 ⭧라고 하 ⭧지만 사람 ⫸에 따...\n",
      "2166324     [CLS] 바리 ⫸에 이 션 ⫸으로 쌩 쏙 옙 , 싱 깍 옙 , [UNK] ,...\n",
      "2186208     [CLS] 에 ##에 유메 오 ##치 ! ? 안 ⫸이나 야 ##츠 쟌 ! 안 ⫸...\n",
      "2283509           [CLS] 닭 ⫸이 언제 ⫸부터 [UNK] 울 ⭧었 ⭧지 [SEP]\n",
      "2378438     [CLS] ㅎ 하 ⭧아 핼 해리 [UNK] ㅅ 시 ##실 시리 맂 ##리 ##즈 ...\n",
      "                                  ...                        \n",
      "50690326    [CLS] 애초 ⫸에 횡단 보도 ⫸를 건너 ⭧ᆯ 때 신호 ##등 ⫸도 안 보...\n",
      "50812484    [CLS] 오늘 닐 ⭧기 ㅈ 되 ⭧야 [UNK] 이 ⭧ᄅ ##ᅣ ㅕ ##다 ##...\n",
      "50867913           [CLS] 황 ##훈 {{{- 2 을 란 홍 더 [UNK] }}} [SEP]\n",
      "50867938           [CLS] 황 ##훈 {{{- 2 을 란 홍 더 [UNK] }}} [SEP]\n",
      "50918255          [CLS] 쿵 ##쾅 북 치 ⭧고 티 ##키 타카 헤드 [UNK] [SEP]\n",
      "Name: sentence, Length: 157, dtype: object\n"
     ]
    }
   ],
   "source": [
    "# OOV 포함 문장 확인\n",
    "print(corpus[corpus['sentence'].str.contains(\"[UNK]\", regex=False, case=True)]['sentence'])"
   ]
  },
  {
   "cell_type": "code",
   "execution_count": null,
   "metadata": {},
   "outputs": [],
   "source": []
  },
  {
   "cell_type": "code",
   "execution_count": null,
   "metadata": {},
   "outputs": [],
   "source": []
  },
  {
   "cell_type": "code",
   "execution_count": 7,
   "metadata": {},
   "outputs": [],
   "source": [
    "# fixed_lexical_T\n",
    "corpus = pd.read_csv('/run/user/1000/gvfs/afp-volume:host=L8221.local,user=bongseok,volume=공유폴더/양봉석/bpe_tokenized/32k/morpheme_mecab_fixed_decomposed_lexical_grammatical_symbol_T_txt', \n",
    "                     sep='\\t', names=['sentence'])"
   ]
  },
  {
   "cell_type": "code",
   "execution_count": 8,
   "metadata": {},
   "outputs": [
    {
     "name": "stdout",
     "output_type": "stream",
     "text": [
      "5 6913795991 7.231917179084724e-08\n"
     ]
    }
   ],
   "source": [
    "oov_count, token_count, rate = getOOVdividedbyAllTokens(corpus)\n",
    "print(oov_count, token_count, rate)"
   ]
  },
  {
   "cell_type": "code",
   "execution_count": null,
   "metadata": {},
   "outputs": [],
   "source": [
    "OR = getOOVsentencePerSentences(corpus['sentence'])\n",
    "    \n",
    "print(OR)"
   ]
  },
  {
   "cell_type": "code",
   "execution_count": 9,
   "metadata": {},
   "outputs": [],
   "source": [
    "corpus['OOV_rate'] = corpus['sentence'].apply(lambda x: getOOVRatePerSentence(x))"
   ]
  },
  {
   "cell_type": "code",
   "execution_count": 10,
   "metadata": {},
   "outputs": [],
   "source": [
    "corpus['OC'] = corpus['sentence'].apply(lambda x: getCountofallOOV(x))"
   ]
  },
  {
   "cell_type": "code",
   "execution_count": 11,
   "metadata": {},
   "outputs": [
    {
     "name": "stdout",
     "output_type": "stream",
     "text": [
      "5.308983338222993e-07 \n",
      " 9.684284950555333e-08 \n",
      " 5\n"
     ]
    }
   ],
   "source": [
    "print(corpus['OOV_rate'].mean(), '\\n', corpus['OC'].mean(), '\\n', corpus['OC'].sum())"
   ]
  },
  {
   "cell_type": "code",
   "execution_count": 12,
   "metadata": {},
   "outputs": [
    {
     "data": {
      "text/html": [
       "<div>\n",
       "<style scoped>\n",
       "    .dataframe tbody tr th:only-of-type {\n",
       "        vertical-align: middle;\n",
       "    }\n",
       "\n",
       "    .dataframe tbody tr th {\n",
       "        vertical-align: top;\n",
       "    }\n",
       "\n",
       "    .dataframe thead th {\n",
       "        text-align: right;\n",
       "    }\n",
       "</style>\n",
       "<table border=\"1\" class=\"dataframe\">\n",
       "  <thead>\n",
       "    <tr style=\"text-align: right;\">\n",
       "      <th></th>\n",
       "      <th>sentence</th>\n",
       "      <th>OC</th>\n",
       "      <th>token_count</th>\n",
       "      <th>OOV_rate</th>\n",
       "    </tr>\n",
       "  </thead>\n",
       "  <tbody>\n",
       "    <tr>\n",
       "      <th>0</th>\n",
       "      <td>[CLS] 신 세계수 ⫸의 미궁 2 ⫸에서 뜨 ⭧ᆫ ! ! 아아...</td>\n",
       "      <td>0</td>\n",
       "      <td>60</td>\n",
       "      <td>0.0</td>\n",
       "    </tr>\n",
       "    <tr>\n",
       "      <th>1</th>\n",
       "      <td>[CLS] 세계수 ⫸의 미궁 시리즈 ⫸에 전통 ⫸으로 등...</td>\n",
       "      <td>0</td>\n",
       "      <td>138</td>\n",
       "      <td>0.0</td>\n",
       "    </tr>\n",
       "    <tr>\n",
       "      <th>2</th>\n",
       "      <td>[CLS] 세계수 ⫸의 모험가 들 ⫸이 탐험 하 ⭧는 더...</td>\n",
       "      <td>0</td>\n",
       "      <td>248</td>\n",
       "      <td>0.0</td>\n",
       "    </tr>\n",
       "    <tr>\n",
       "      <th>3</th>\n",
       "      <td>[CLS] 그러나 분배 하 ⭧ᆯ 수 있 ⭧는 스킬 포인...</td>\n",
       "      <td>0</td>\n",
       "      <td>165</td>\n",
       "      <td>0.0</td>\n",
       "    </tr>\n",
       "    <tr>\n",
       "      <th>4</th>\n",
       "      <td>[CLS] 아아 ##ᆺ ! ! ⫸이 발생 하 ⭧는 과정 ⫸을 요...</td>\n",
       "      <td>0</td>\n",
       "      <td>79</td>\n",
       "      <td>0.0</td>\n",
       "    </tr>\n",
       "  </tbody>\n",
       "</table>\n",
       "</div>"
      ],
      "text/plain": [
       "                                            sentence  OC  token_count  \\\n",
       "0  [CLS] 신 세계수 ⫸의 미궁 2 ⫸에서 뜨 ⭧ᆫ ! ! 아아...   0           60   \n",
       "1  [CLS] 세계수 ⫸의 미궁 시리즈 ⫸에 전통 ⫸으로 등...   0          138   \n",
       "2  [CLS] 세계수 ⫸의 모험가 들 ⫸이 탐험 하 ⭧는 더...   0          248   \n",
       "3  [CLS] 그러나 분배 하 ⭧ᆯ 수 있 ⭧는 스킬 포인...   0          165   \n",
       "4  [CLS] 아아 ##ᆺ ! ! ⫸이 발생 하 ⭧는 과정 ⫸을 요...   0           79   \n",
       "\n",
       "   OOV_rate  \n",
       "0       0.0  \n",
       "1       0.0  \n",
       "2       0.0  \n",
       "3       0.0  \n",
       "4       0.0  "
      ]
     },
     "execution_count": 12,
     "metadata": {},
     "output_type": "execute_result"
    }
   ],
   "source": [
    "corpus.head()"
   ]
  },
  {
   "cell_type": "code",
   "execution_count": 13,
   "metadata": {},
   "outputs": [
    {
     "name": "stdout",
     "output_type": "stream",
     "text": [
      "29815786            [CLS] 나 ⫸의 사랑 정말 보이 [UNK] [SEP]\n",
      "36286913    [CLS] 그리고 , SCP - 03 ##5 ⫸의 가면 ⫸을 쓰 ⭧면 ...\n",
      "36792153    [CLS] * 그 ⫸가 그 학교 ⫸를 보 ⭧ᆫ ##즉 먹 ⭧음직 ⫸도...\n",
      "44638460    [CLS] - 데이 : 히 ##ᆼ . .. 미안 하 ⭧ㅕ . 다음...\n",
      "48720006    [CLS] 주변 ⫸의 백발 ⫸에 희 ⭧ᆫ 눈동자 ⫸를 가ᄌ...\n",
      "Name: sentence, dtype: object\n"
     ]
    }
   ],
   "source": [
    "# OOV 포함 문장 확인\n",
    "print(corpus[corpus['sentence'].str.contains(\"[UNK]\", regex=False, case=True)]['sentence'])"
   ]
  },
  {
   "cell_type": "code",
   "execution_count": null,
   "metadata": {},
   "outputs": [],
   "source": []
  }
 ],
 "metadata": {
  "kernelspec": {
   "display_name": "acl",
   "language": "python",
   "name": "acl"
  },
  "language_info": {
   "codemirror_mode": {
    "name": "ipython",
    "version": 3
   },
   "file_extension": ".py",
   "mimetype": "text/x-python",
   "name": "python",
   "nbconvert_exporter": "python",
   "pygments_lexer": "ipython3",
   "version": "3.8.9"
  }
 },
 "nbformat": 4,
 "nbformat_minor": 2
}
