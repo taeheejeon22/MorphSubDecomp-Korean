{
 "cells": [
  {
   "cell_type": "code",
   "execution_count": 1,
   "metadata": {},
   "outputs": [],
   "source": [
    "# UNK 개수 새기"
   ]
  },
  {
   "cell_type": "code",
   "execution_count": 2,
   "metadata": {},
   "outputs": [],
   "source": [
    "import pandas as pd\n",
    "import re\n",
    "import numpy as np\n",
    "import pandas as pd\n",
    "from multiprocessing import Pool\n",
    "import multiprocessing\n"
   ]
  },
  {
   "cell_type": "markdown",
   "metadata": {},
   "source": [
    "# get OOV rate"
   ]
  },
  {
   "cell_type": "code",
   "execution_count": 3,
   "metadata": {},
   "outputs": [],
   "source": [
    "# [UNK]의 개수 / 문장의 길이 * 100\n",
    "from typing import List\n",
    "\n",
    "def getOOVRatePerSentence(sentence):\n",
    "    # [CLS], [SEP] 제거\n",
    "    sentence = sentence.split()\n",
    "    try:\n",
    "        sentence.remove('[CLS]')\n",
    "        sentence.remove('[SEP]')\n",
    "    except:\n",
    "        pass\n",
    "    try:\n",
    "        OOV_rate = sentence.count('[UNK]') / len(sentence) * 100   \n",
    "    except ZeroDivisionError:\n",
    "        OOV_rate = 0\n",
    "    \n",
    "    return OOV_rate"
   ]
  },
  {
   "cell_type": "code",
   "execution_count": 4,
   "metadata": {},
   "outputs": [],
   "source": [
    "# count of all OOV tokens (OC)\n",
    "def getCountofallOOV(sentence):\n",
    "    sentence = sentence.split()\n",
    "    cnt = 0\n",
    "    cnt += sentence.count('[UNK]')\n",
    "    \n",
    "    return cnt"
   ]
  },
  {
   "cell_type": "code",
   "execution_count": 5,
   "metadata": {},
   "outputs": [],
   "source": [
    "# count of all sentences with OOV tokens, divided by the number of sentences * 100 (OR)\n",
    "def getOOVsentencePerSentences(corpus): #corpus: 토큰화된 문장이 있는 칼럼\n",
    "    cnt = 0\n",
    "    for sentence in corpus:\n",
    "        if '[UNK]' in sentence:\n",
    "            cnt += 1\n",
    "    OR = cnt / len(corpus)\n",
    "    return cnt, len(corpus), OR"
   ]
  },
  {
   "cell_type": "code",
   "execution_count": 6,
   "metadata": {},
   "outputs": [],
   "source": [
    "# multiprocessing\n",
    "def para_dataframe(df, func, n_cores=4):\n",
    "    df_split = np.array_split(df, n_cores)\n",
    "    pool = Pool(n_cores)\n",
    "    df = pd.concat(pool.map(func, df_split))\n",
    "    pool.close()\n",
    "    pool.join()\n",
    "    return df"
   ]
  },
  {
   "cell_type": "code",
   "execution_count": null,
   "metadata": {},
   "outputs": [],
   "source": []
  },
  {
   "cell_type": "code",
   "execution_count": 7,
   "metadata": {},
   "outputs": [
    {
     "data": {
      "text/html": [
       "<div>\n",
       "<style scoped>\n",
       "    .dataframe tbody tr th:only-of-type {\n",
       "        vertical-align: middle;\n",
       "    }\n",
       "\n",
       "    .dataframe tbody tr th {\n",
       "        vertical-align: top;\n",
       "    }\n",
       "\n",
       "    .dataframe thead th {\n",
       "        text-align: right;\n",
       "    }\n",
       "</style>\n",
       "<table border=\"1\" class=\"dataframe\">\n",
       "  <thead>\n",
       "    <tr style=\"text-align: right;\">\n",
       "      <th></th>\n",
       "      <th>sentence</th>\n",
       "    </tr>\n",
       "  </thead>\n",
       "  <tbody>\n",
       "    <tr>\n",
       "      <th>0</th>\n",
       "      <td>[CLS] 지 ##미 카 ##터 [SEP]</td>\n",
       "    </tr>\n",
       "    <tr>\n",
       "      <th>1</th>\n",
       "      <td>[CLS] 제임스 얼 카 ##터 주니어 ##는 민주당 출신 미국 39 ##대 대통령...</td>\n",
       "    </tr>\n",
       "    <tr>\n",
       "      <th>2</th>\n",
       "      <td>[CLS] 지 ##미 카 ##터는 조지 ##아 ##주 섬 ##터 카운 ##티 플레 ...</td>\n",
       "    </tr>\n",
       "    <tr>\n",
       "      <th>3</th>\n",
       "      <td>[CLS] 조지 ##아 공 ##과대학 ##교를 졸업 ##하였다. 그 후 해군 ##에...</td>\n",
       "    </tr>\n",
       "    <tr>\n",
       "      <th>4</th>\n",
       "      <td>[CLS] 1962년 조지 ##아 주 상 ##원 의원 선거에서 낙선 ##하나 그 선...</td>\n",
       "    </tr>\n",
       "  </tbody>\n",
       "</table>\n",
       "</div>"
      ],
      "text/plain": [
       "                                            sentence\n",
       "0                            [CLS] 지 ##미 카 ##터 [SEP]\n",
       "1  [CLS] 제임스 얼 카 ##터 주니어 ##는 민주당 출신 미국 39 ##대 대통령...\n",
       "2  [CLS] 지 ##미 카 ##터는 조지 ##아 ##주 섬 ##터 카운 ##티 플레 ...\n",
       "3  [CLS] 조지 ##아 공 ##과대학 ##교를 졸업 ##하였다. 그 후 해군 ##에...\n",
       "4  [CLS] 1962년 조지 ##아 주 상 ##원 의원 선거에서 낙선 ##하나 그 선..."
      ]
     },
     "execution_count": 7,
     "metadata": {},
     "output_type": "execute_result"
    }
   ],
   "source": [
    "# eojoel_composed\n",
    "import pandas as pd\n",
    "corpus = pd.read_csv('../corpus/bpe_tokenized/eojeol_mecab_fixed_composed_grammatical_symbol_F_txt', \n",
    "                     sep='\\t', names=['sentence'])\n",
    "corpus.head()\n"
   ]
  },
  {
   "cell_type": "code",
   "execution_count": 8,
   "metadata": {},
   "outputs": [],
   "source": [
    "OR = getOOVsentencePerSentences(corpus['sentence'])"
   ]
  },
  {
   "cell_type": "code",
   "execution_count": 9,
   "metadata": {},
   "outputs": [
    {
     "data": {
      "text/plain": [
       "(70, 4611602, 1.5179106956758193e-05)"
      ]
     },
     "execution_count": 9,
     "metadata": {},
     "output_type": "execute_result"
    }
   ],
   "source": [
    "OR"
   ]
  },
  {
   "cell_type": "code",
   "execution_count": 10,
   "metadata": {},
   "outputs": [],
   "source": [
    "corpus['OOV_rate'] = corpus['sentence'].apply(lambda x: getOOVRatePerSentence(x))"
   ]
  },
  {
   "cell_type": "code",
   "execution_count": 11,
   "metadata": {},
   "outputs": [],
   "source": [
    "corpus['OC'] = corpus['sentence'].apply(lambda x: getCountofallOOV(x))"
   ]
  },
  {
   "cell_type": "code",
   "execution_count": 12,
   "metadata": {
    "scrolled": true
   },
   "outputs": [
    {
     "data": {
      "text/html": [
       "<div>\n",
       "<style scoped>\n",
       "    .dataframe tbody tr th:only-of-type {\n",
       "        vertical-align: middle;\n",
       "    }\n",
       "\n",
       "    .dataframe tbody tr th {\n",
       "        vertical-align: top;\n",
       "    }\n",
       "\n",
       "    .dataframe thead th {\n",
       "        text-align: right;\n",
       "    }\n",
       "</style>\n",
       "<table border=\"1\" class=\"dataframe\">\n",
       "  <thead>\n",
       "    <tr style=\"text-align: right;\">\n",
       "      <th></th>\n",
       "      <th>sentence</th>\n",
       "      <th>OOV_rate</th>\n",
       "      <th>OC</th>\n",
       "    </tr>\n",
       "  </thead>\n",
       "  <tbody>\n",
       "    <tr>\n",
       "      <th>0</th>\n",
       "      <td>[CLS] 지 ##미 카 ##터 [SEP]</td>\n",
       "      <td>0.0</td>\n",
       "      <td>0</td>\n",
       "    </tr>\n",
       "    <tr>\n",
       "      <th>1</th>\n",
       "      <td>[CLS] 제임스 얼 카 ##터 주니어 ##는 민주당 출신 미국 39 ##대 대통령...</td>\n",
       "      <td>0.0</td>\n",
       "      <td>0</td>\n",
       "    </tr>\n",
       "    <tr>\n",
       "      <th>2</th>\n",
       "      <td>[CLS] 지 ##미 카 ##터는 조지 ##아 ##주 섬 ##터 카운 ##티 플레 ...</td>\n",
       "      <td>0.0</td>\n",
       "      <td>0</td>\n",
       "    </tr>\n",
       "    <tr>\n",
       "      <th>3</th>\n",
       "      <td>[CLS] 조지 ##아 공 ##과대학 ##교를 졸업 ##하였다. 그 후 해군 ##에...</td>\n",
       "      <td>0.0</td>\n",
       "      <td>0</td>\n",
       "    </tr>\n",
       "    <tr>\n",
       "      <th>4</th>\n",
       "      <td>[CLS] 1962년 조지 ##아 주 상 ##원 의원 선거에서 낙선 ##하나 그 선...</td>\n",
       "      <td>0.0</td>\n",
       "      <td>0</td>\n",
       "    </tr>\n",
       "  </tbody>\n",
       "</table>\n",
       "</div>"
      ],
      "text/plain": [
       "                                            sentence  OOV_rate  OC\n",
       "0                            [CLS] 지 ##미 카 ##터 [SEP]       0.0   0\n",
       "1  [CLS] 제임스 얼 카 ##터 주니어 ##는 민주당 출신 미국 39 ##대 대통령...       0.0   0\n",
       "2  [CLS] 지 ##미 카 ##터는 조지 ##아 ##주 섬 ##터 카운 ##티 플레 ...       0.0   0\n",
       "3  [CLS] 조지 ##아 공 ##과대학 ##교를 졸업 ##하였다. 그 후 해군 ##에...       0.0   0\n",
       "4  [CLS] 1962년 조지 ##아 주 상 ##원 의원 선거에서 낙선 ##하나 그 선...       0.0   0"
      ]
     },
     "execution_count": 12,
     "metadata": {},
     "output_type": "execute_result"
    }
   ],
   "source": [
    "corpus.head()"
   ]
  },
  {
   "cell_type": "code",
   "execution_count": 13,
   "metadata": {},
   "outputs": [
    {
     "name": "stdout",
     "output_type": "stream",
     "text": [
      "0.0006735944625497235 \n",
      " 1.5612795726951286e-05 \n",
      " 72\n"
     ]
    }
   ],
   "source": [
    "print(corpus['OOV_rate'].mean(), '\\n', corpus['OC'].mean(), '\\n', corpus['OC'].sum())"
   ]
  },
  {
   "cell_type": "code",
   "execution_count": 14,
   "metadata": {},
   "outputs": [],
   "source": [
    "# eojoel_pure\n",
    "import pandas as pd\n",
    "\n",
    "corpus = pd.read_csv('../corpus/bpe_tokenized/eojeol_mecab_fixed_decomposed_pure_grammatical_symbol_F_txt', \n",
    "                 sep='\\t', names=['sentence'])"
   ]
  },
  {
   "cell_type": "code",
   "execution_count": 15,
   "metadata": {},
   "outputs": [
    {
     "name": "stdout",
     "output_type": "stream",
     "text": [
      "(401, 4611602, 8.695459842371479e-05)\n"
     ]
    }
   ],
   "source": [
    "OR = getOOVsentencePerSentences(corpus['sentence'])\n",
    "print(OR)"
   ]
  },
  {
   "cell_type": "code",
   "execution_count": 16,
   "metadata": {},
   "outputs": [],
   "source": [
    "corpus['OOV_rate'] = corpus['sentence'].apply(lambda x: getOOVRatePerSentence(x))"
   ]
  },
  {
   "cell_type": "code",
   "execution_count": 17,
   "metadata": {},
   "outputs": [],
   "source": [
    "corpus['OC'] = corpus['sentence'].apply(lambda x: getCountofallOOV(x))"
   ]
  },
  {
   "cell_type": "code",
   "execution_count": 18,
   "metadata": {},
   "outputs": [
    {
     "data": {
      "text/html": [
       "<div>\n",
       "<style scoped>\n",
       "    .dataframe tbody tr th:only-of-type {\n",
       "        vertical-align: middle;\n",
       "    }\n",
       "\n",
       "    .dataframe tbody tr th {\n",
       "        vertical-align: top;\n",
       "    }\n",
       "\n",
       "    .dataframe thead th {\n",
       "        text-align: right;\n",
       "    }\n",
       "</style>\n",
       "<table border=\"1\" class=\"dataframe\">\n",
       "  <thead>\n",
       "    <tr style=\"text-align: right;\">\n",
       "      <th></th>\n",
       "      <th>sentence</th>\n",
       "      <th>OOV_rate</th>\n",
       "      <th>OC</th>\n",
       "    </tr>\n",
       "  </thead>\n",
       "  <tbody>\n",
       "    <tr>\n",
       "      <th>0</th>\n",
       "      <td>[CLS] 지미 카 ##터 [SEP]</td>\n",
       "      <td>0.0</td>\n",
       "      <td>0</td>\n",
       "    </tr>\n",
       "    <tr>\n",
       "      <th>1</th>\n",
       "      <td>[CLS] 제임스 얼 카 ##터 주니어 ##는 민주다...</td>\n",
       "      <td>0.0</td>\n",
       "      <td>0</td>\n",
       "    </tr>\n",
       "    <tr>\n",
       "      <th>2</th>\n",
       "      <td>[CLS] 지미 카 ##터는 조지아 ##주 섬 ##터 카ᄋ...</td>\n",
       "      <td>0.0</td>\n",
       "      <td>0</td>\n",
       "    </tr>\n",
       "    <tr>\n",
       "      <th>3</th>\n",
       "      <td>[CLS] 조지아 공 ##과대학 ##교를 졸업하였...</td>\n",
       "      <td>0.0</td>\n",
       "      <td>0</td>\n",
       "    </tr>\n",
       "    <tr>\n",
       "      <th>4</th>\n",
       "      <td>[CLS] 1962년 조지아 주 상 ##원 의원 선거ᄋ...</td>\n",
       "      <td>0.0</td>\n",
       "      <td>0</td>\n",
       "    </tr>\n",
       "  </tbody>\n",
       "</table>\n",
       "</div>"
      ],
      "text/plain": [
       "                                            sentence  OOV_rate  OC\n",
       "0                           [CLS] 지미 카 ##터 [SEP]       0.0   0\n",
       "1  [CLS] 제임스 얼 카 ##터 주니어 ##는 민주다...       0.0   0\n",
       "2  [CLS] 지미 카 ##터는 조지아 ##주 섬 ##터 카ᄋ...       0.0   0\n",
       "3  [CLS] 조지아 공 ##과대학 ##교를 졸업하였...       0.0   0\n",
       "4  [CLS] 1962년 조지아 주 상 ##원 의원 선거ᄋ...       0.0   0"
      ]
     },
     "execution_count": 18,
     "metadata": {},
     "output_type": "execute_result"
    }
   ],
   "source": [
    "corpus.head()"
   ]
  },
  {
   "cell_type": "code",
   "execution_count": 19,
   "metadata": {},
   "outputs": [
    {
     "name": "stdout",
     "output_type": "stream",
     "text": [
      "0.0015477489207286804 \n",
      " 9.020726420016298e-05 \n",
      " 416\n"
     ]
    }
   ],
   "source": [
    "print(corpus['OOV_rate'].mean(), '\\n', corpus['OC'].mean(), '\\n', corpus['OC'].sum())"
   ]
  },
  {
   "cell_type": "code",
   "execution_count": 20,
   "metadata": {},
   "outputs": [],
   "source": [
    "# orig_composed\n",
    "corpus = pd.read_csv('../corpus/bpe_tokenized/morpheme_mecab_orig_composed_grammatical_symbol_F_txt',              sep='\\t', names=['sentence'])"
   ]
  },
  {
   "cell_type": "code",
   "execution_count": 21,
   "metadata": {},
   "outputs": [
    {
     "name": "stdout",
     "output_type": "stream",
     "text": [
      "(0, 4611602, 0.0)\n"
     ]
    }
   ],
   "source": [
    "OR = getOOVsentencePerSentences(corpus['sentence'])\n",
    "print(OR)"
   ]
  },
  {
   "cell_type": "code",
   "execution_count": 22,
   "metadata": {},
   "outputs": [],
   "source": [
    "corpus['OOV_rate'] = corpus['sentence'].apply(lambda x: getOOVRatePerSentence(x))"
   ]
  },
  {
   "cell_type": "code",
   "execution_count": 23,
   "metadata": {},
   "outputs": [],
   "source": [
    "corpus['OC'] = corpus['sentence'].apply(lambda x: getCountofallOOV(x))"
   ]
  },
  {
   "cell_type": "code",
   "execution_count": 24,
   "metadata": {},
   "outputs": [
    {
     "name": "stdout",
     "output_type": "stream",
     "text": [
      "0.0 \n",
      " 0.0 \n",
      " 0\n"
     ]
    }
   ],
   "source": [
    "print(corpus['OOV_rate'].mean(), '\\n', corpus['OC'].mean(), '\\n', corpus['OC'].sum())"
   ]
  },
  {
   "cell_type": "code",
   "execution_count": 25,
   "metadata": {},
   "outputs": [
    {
     "data": {
      "text/html": [
       "<div>\n",
       "<style scoped>\n",
       "    .dataframe tbody tr th:only-of-type {\n",
       "        vertical-align: middle;\n",
       "    }\n",
       "\n",
       "    .dataframe tbody tr th {\n",
       "        vertical-align: top;\n",
       "    }\n",
       "\n",
       "    .dataframe thead th {\n",
       "        text-align: right;\n",
       "    }\n",
       "</style>\n",
       "<table border=\"1\" class=\"dataframe\">\n",
       "  <thead>\n",
       "    <tr style=\"text-align: right;\">\n",
       "      <th></th>\n",
       "      <th>sentence</th>\n",
       "      <th>OOV_rate</th>\n",
       "      <th>OC</th>\n",
       "    </tr>\n",
       "  </thead>\n",
       "  <tbody>\n",
       "    <tr>\n",
       "      <th>0</th>\n",
       "      <td>[CLS] 지미 카터 [SEP]</td>\n",
       "      <td>0.0</td>\n",
       "      <td>0</td>\n",
       "    </tr>\n",
       "    <tr>\n",
       "      <th>1</th>\n",
       "      <td>[CLS] 제임스 얼 카터 주니어 는 민주당 출신 미국 39 대 대통령 이 다 . ...</td>\n",
       "      <td>0.0</td>\n",
       "      <td>0</td>\n",
       "    </tr>\n",
       "    <tr>\n",
       "      <th>2</th>\n",
       "      <td>[CLS] 지미 카터 는 조지 아주 섬 ##터 카운티 플 레인 ##스 마을 에서 태...</td>\n",
       "      <td>0.0</td>\n",
       "      <td>0</td>\n",
       "    </tr>\n",
       "    <tr>\n",
       "      <th>3</th>\n",
       "      <td>[CLS] 조지아 공과 대학교 를 졸업 하 였 다 . 그 후 해군 에 들어가 전함 ...</td>\n",
       "      <td>0.0</td>\n",
       "      <td>0</td>\n",
       "    </tr>\n",
       "    <tr>\n",
       "      <th>4</th>\n",
       "      <td>[CLS] 1962 년 조지아 주 상원 의원 선거 에서 낙선 하 나 그 선거 가 부...</td>\n",
       "      <td>0.0</td>\n",
       "      <td>0</td>\n",
       "    </tr>\n",
       "  </tbody>\n",
       "</table>\n",
       "</div>"
      ],
      "text/plain": [
       "                                            sentence  OOV_rate  OC\n",
       "0                                  [CLS] 지미 카터 [SEP]       0.0   0\n",
       "1  [CLS] 제임스 얼 카터 주니어 는 민주당 출신 미국 39 대 대통령 이 다 . ...       0.0   0\n",
       "2  [CLS] 지미 카터 는 조지 아주 섬 ##터 카운티 플 레인 ##스 마을 에서 태...       0.0   0\n",
       "3  [CLS] 조지아 공과 대학교 를 졸업 하 였 다 . 그 후 해군 에 들어가 전함 ...       0.0   0\n",
       "4  [CLS] 1962 년 조지아 주 상원 의원 선거 에서 낙선 하 나 그 선거 가 부...       0.0   0"
      ]
     },
     "execution_count": 25,
     "metadata": {},
     "output_type": "execute_result"
    }
   ],
   "source": [
    "corpus.head()"
   ]
  },
  {
   "cell_type": "code",
   "execution_count": 26,
   "metadata": {},
   "outputs": [],
   "source": [
    "# orig_pure\n",
    "corpus = pd.read_csv('../corpus/bpe_tokenized/morpheme_mecab_orig_decomposed_pure_grammatical_symbol_F_txt', \n",
    "                     sep='\\t', names=['sentence'])"
   ]
  },
  {
   "cell_type": "code",
   "execution_count": 27,
   "metadata": {},
   "outputs": [
    {
     "name": "stdout",
     "output_type": "stream",
     "text": [
      "(0, 4611602, 0.0)\n"
     ]
    }
   ],
   "source": [
    "OR = getOOVsentencePerSentences(corpus['sentence'])\n",
    "print(OR)"
   ]
  },
  {
   "cell_type": "code",
   "execution_count": 28,
   "metadata": {},
   "outputs": [],
   "source": [
    "corpus['OOV_rate'] = corpus['sentence'].apply(lambda x: getOOVRatePerSentence(x))"
   ]
  },
  {
   "cell_type": "code",
   "execution_count": 29,
   "metadata": {},
   "outputs": [],
   "source": [
    "corpus['OC'] = corpus['sentence'].apply(lambda x: getCountofallOOV(x))"
   ]
  },
  {
   "cell_type": "code",
   "execution_count": 30,
   "metadata": {},
   "outputs": [
    {
     "name": "stdout",
     "output_type": "stream",
     "text": [
      "0.0 \n",
      " 0.0 \n",
      " 0\n"
     ]
    }
   ],
   "source": [
    "print(corpus['OOV_rate'].mean(), '\\n', corpus['OC'].mean(), '\\n', corpus['OC'].sum())"
   ]
  },
  {
   "cell_type": "code",
   "execution_count": 31,
   "metadata": {},
   "outputs": [
    {
     "data": {
      "text/html": [
       "<div>\n",
       "<style scoped>\n",
       "    .dataframe tbody tr th:only-of-type {\n",
       "        vertical-align: middle;\n",
       "    }\n",
       "\n",
       "    .dataframe tbody tr th {\n",
       "        vertical-align: top;\n",
       "    }\n",
       "\n",
       "    .dataframe thead th {\n",
       "        text-align: right;\n",
       "    }\n",
       "</style>\n",
       "<table border=\"1\" class=\"dataframe\">\n",
       "  <thead>\n",
       "    <tr style=\"text-align: right;\">\n",
       "      <th></th>\n",
       "      <th>sentence</th>\n",
       "      <th>OOV_rate</th>\n",
       "      <th>OC</th>\n",
       "    </tr>\n",
       "  </thead>\n",
       "  <tbody>\n",
       "    <tr>\n",
       "      <th>0</th>\n",
       "      <td>[CLS] 지미 카터 [SEP]</td>\n",
       "      <td>0.0</td>\n",
       "      <td>0</td>\n",
       "    </tr>\n",
       "    <tr>\n",
       "      <th>1</th>\n",
       "      <td>[CLS] 제임스 얼 카터 주니어 는 민주당 출...</td>\n",
       "      <td>0.0</td>\n",
       "      <td>0</td>\n",
       "    </tr>\n",
       "    <tr>\n",
       "      <th>2</th>\n",
       "      <td>[CLS] 지미 카터 는 조지 아주 섬 ##터 카운티...</td>\n",
       "      <td>0.0</td>\n",
       "      <td>0</td>\n",
       "    </tr>\n",
       "    <tr>\n",
       "      <th>3</th>\n",
       "      <td>[CLS] 조지아 공과 대학교 를 졸업 하 였 ᄃ...</td>\n",
       "      <td>0.0</td>\n",
       "      <td>0</td>\n",
       "    </tr>\n",
       "    <tr>\n",
       "      <th>4</th>\n",
       "      <td>[CLS] 1962 년 조지아 주 상원 의원 선거 에...</td>\n",
       "      <td>0.0</td>\n",
       "      <td>0</td>\n",
       "    </tr>\n",
       "  </tbody>\n",
       "</table>\n",
       "</div>"
      ],
      "text/plain": [
       "                                            sentence  OOV_rate  OC\n",
       "0                              [CLS] 지미 카터 [SEP]       0.0   0\n",
       "1  [CLS] 제임스 얼 카터 주니어 는 민주당 출...       0.0   0\n",
       "2  [CLS] 지미 카터 는 조지 아주 섬 ##터 카운티...       0.0   0\n",
       "3  [CLS] 조지아 공과 대학교 를 졸업 하 였 ᄃ...       0.0   0\n",
       "4  [CLS] 1962 년 조지아 주 상원 의원 선거 에...       0.0   0"
      ]
     },
     "execution_count": 31,
     "metadata": {},
     "output_type": "execute_result"
    }
   ],
   "source": [
    "corpus.head()"
   ]
  },
  {
   "cell_type": "code",
   "execution_count": null,
   "metadata": {},
   "outputs": [],
   "source": []
  },
  {
   "cell_type": "code",
   "execution_count": 32,
   "metadata": {},
   "outputs": [],
   "source": [
    "# fixed_composed\n",
    "corpus = pd.read_csv('../corpus/bpe_tokenized/morpheme_mecab_fixed_composed_grammatical_symbol_F_txt', \n",
    "                     sep='\\t', names=['sentence'])"
   ]
  },
  {
   "cell_type": "code",
   "execution_count": 33,
   "metadata": {},
   "outputs": [
    {
     "name": "stdout",
     "output_type": "stream",
     "text": [
      "(0, 4611602, 0.0)\n"
     ]
    }
   ],
   "source": [
    "OR = getOOVsentencePerSentences(corpus['sentence'])\n",
    "print(OR)"
   ]
  },
  {
   "cell_type": "code",
   "execution_count": 34,
   "metadata": {},
   "outputs": [],
   "source": [
    "corpus['OOV_rate'] = corpus['sentence'].apply(lambda x: getOOVRatePerSentence(x))"
   ]
  },
  {
   "cell_type": "code",
   "execution_count": 35,
   "metadata": {},
   "outputs": [],
   "source": [
    "corpus['OC'] = corpus['sentence'].apply(lambda x: getCountofallOOV(x))"
   ]
  },
  {
   "cell_type": "code",
   "execution_count": 36,
   "metadata": {},
   "outputs": [
    {
     "name": "stdout",
     "output_type": "stream",
     "text": [
      "0.0 \n",
      " 0.0 \n",
      " 0\n"
     ]
    }
   ],
   "source": [
    "print(corpus['OOV_rate'].mean(), '\\n', corpus['OC'].mean(), '\\n', corpus['OC'].sum())"
   ]
  },
  {
   "cell_type": "code",
   "execution_count": 37,
   "metadata": {},
   "outputs": [
    {
     "data": {
      "text/html": [
       "<div>\n",
       "<style scoped>\n",
       "    .dataframe tbody tr th:only-of-type {\n",
       "        vertical-align: middle;\n",
       "    }\n",
       "\n",
       "    .dataframe tbody tr th {\n",
       "        vertical-align: top;\n",
       "    }\n",
       "\n",
       "    .dataframe thead th {\n",
       "        text-align: right;\n",
       "    }\n",
       "</style>\n",
       "<table border=\"1\" class=\"dataframe\">\n",
       "  <thead>\n",
       "    <tr style=\"text-align: right;\">\n",
       "      <th></th>\n",
       "      <th>sentence</th>\n",
       "      <th>OOV_rate</th>\n",
       "      <th>OC</th>\n",
       "    </tr>\n",
       "  </thead>\n",
       "  <tbody>\n",
       "    <tr>\n",
       "      <th>0</th>\n",
       "      <td>[CLS] 지미 카터 [SEP]</td>\n",
       "      <td>0.0</td>\n",
       "      <td>0</td>\n",
       "    </tr>\n",
       "    <tr>\n",
       "      <th>1</th>\n",
       "      <td>[CLS] 제임스 얼 카터 주니어 는 민주당 출신 미국 39 대 대통령 이 다 . ...</td>\n",
       "      <td>0.0</td>\n",
       "      <td>0</td>\n",
       "    </tr>\n",
       "    <tr>\n",
       "      <th>2</th>\n",
       "      <td>[CLS] 지미 카터 는 조지 아주 섬 ##터 카운티 플 레인 ##스 마을 에서 태...</td>\n",
       "      <td>0.0</td>\n",
       "      <td>0</td>\n",
       "    </tr>\n",
       "    <tr>\n",
       "      <th>3</th>\n",
       "      <td>[CLS] 조지아 공과 대학교 를 졸업 하 였 다 . 그 후 해군 에 들어가 아 전...</td>\n",
       "      <td>0.0</td>\n",
       "      <td>0</td>\n",
       "    </tr>\n",
       "    <tr>\n",
       "      <th>4</th>\n",
       "      <td>[CLS] 1962 년 조지아 주 상원 의원 선거 에서 낙선 하 나 그 선거 가 부...</td>\n",
       "      <td>0.0</td>\n",
       "      <td>0</td>\n",
       "    </tr>\n",
       "  </tbody>\n",
       "</table>\n",
       "</div>"
      ],
      "text/plain": [
       "                                            sentence  OOV_rate  OC\n",
       "0                                  [CLS] 지미 카터 [SEP]       0.0   0\n",
       "1  [CLS] 제임스 얼 카터 주니어 는 민주당 출신 미국 39 대 대통령 이 다 . ...       0.0   0\n",
       "2  [CLS] 지미 카터 는 조지 아주 섬 ##터 카운티 플 레인 ##스 마을 에서 태...       0.0   0\n",
       "3  [CLS] 조지아 공과 대학교 를 졸업 하 였 다 . 그 후 해군 에 들어가 아 전...       0.0   0\n",
       "4  [CLS] 1962 년 조지아 주 상원 의원 선거 에서 낙선 하 나 그 선거 가 부...       0.0   0"
      ]
     },
     "execution_count": 37,
     "metadata": {},
     "output_type": "execute_result"
    }
   ],
   "source": [
    "corpus.head()"
   ]
  },
  {
   "cell_type": "code",
   "execution_count": 38,
   "metadata": {},
   "outputs": [],
   "source": [
    "# fixed_pure\n",
    "\n",
    "corpus = pd.read_csv('../corpus/bpe_tokenized/morpheme_mecab_fixed_decomposed_pure_grammatical_symbol_F_txt', \n",
    "                     sep='\\t', names=['sentence'])"
   ]
  },
  {
   "cell_type": "code",
   "execution_count": 39,
   "metadata": {},
   "outputs": [],
   "source": [
    "OR = getOOVsentencePerSentences(corpus['sentence'])\n"
   ]
  },
  {
   "cell_type": "code",
   "execution_count": 40,
   "metadata": {},
   "outputs": [
    {
     "name": "stdout",
     "output_type": "stream",
     "text": [
      "(0, 4611602, 0.0)\n"
     ]
    }
   ],
   "source": [
    "print(OR)"
   ]
  },
  {
   "cell_type": "code",
   "execution_count": 41,
   "metadata": {},
   "outputs": [],
   "source": [
    "corpus['OOV_rate'] = corpus['sentence'].apply(lambda x: getOOVRatePerSentence(x))"
   ]
  },
  {
   "cell_type": "code",
   "execution_count": 42,
   "metadata": {},
   "outputs": [],
   "source": [
    "corpus['OC'] = corpus['sentence'].apply(lambda x: getCountofallOOV(x))"
   ]
  },
  {
   "cell_type": "code",
   "execution_count": 43,
   "metadata": {},
   "outputs": [
    {
     "name": "stdout",
     "output_type": "stream",
     "text": [
      "0.0 \n",
      " 0.0 \n",
      " 0\n"
     ]
    }
   ],
   "source": [
    "print(corpus['OOV_rate'].mean(), '\\n', corpus['OC'].mean(), '\\n', corpus['OC'].sum())"
   ]
  },
  {
   "cell_type": "code",
   "execution_count": 44,
   "metadata": {},
   "outputs": [
    {
     "data": {
      "text/html": [
       "<div>\n",
       "<style scoped>\n",
       "    .dataframe tbody tr th:only-of-type {\n",
       "        vertical-align: middle;\n",
       "    }\n",
       "\n",
       "    .dataframe tbody tr th {\n",
       "        vertical-align: top;\n",
       "    }\n",
       "\n",
       "    .dataframe thead th {\n",
       "        text-align: right;\n",
       "    }\n",
       "</style>\n",
       "<table border=\"1\" class=\"dataframe\">\n",
       "  <thead>\n",
       "    <tr style=\"text-align: right;\">\n",
       "      <th></th>\n",
       "      <th>sentence</th>\n",
       "      <th>OOV_rate</th>\n",
       "      <th>OC</th>\n",
       "    </tr>\n",
       "  </thead>\n",
       "  <tbody>\n",
       "    <tr>\n",
       "      <th>0</th>\n",
       "      <td>[CLS] 지미 카터 [SEP]</td>\n",
       "      <td>0.0</td>\n",
       "      <td>0</td>\n",
       "    </tr>\n",
       "    <tr>\n",
       "      <th>1</th>\n",
       "      <td>[CLS] 제임스 얼 카터 주니어 는 민주당 출...</td>\n",
       "      <td>0.0</td>\n",
       "      <td>0</td>\n",
       "    </tr>\n",
       "    <tr>\n",
       "      <th>2</th>\n",
       "      <td>[CLS] 지미 카터 는 조지 아주 섬 ##터 카운티...</td>\n",
       "      <td>0.0</td>\n",
       "      <td>0</td>\n",
       "    </tr>\n",
       "    <tr>\n",
       "      <th>3</th>\n",
       "      <td>[CLS] 조지아 공과 대학교 를 졸업 하 였 ᄃ...</td>\n",
       "      <td>0.0</td>\n",
       "      <td>0</td>\n",
       "    </tr>\n",
       "    <tr>\n",
       "      <th>4</th>\n",
       "      <td>[CLS] 1962 년 조지아 주 상원 의원 선거 에...</td>\n",
       "      <td>0.0</td>\n",
       "      <td>0</td>\n",
       "    </tr>\n",
       "  </tbody>\n",
       "</table>\n",
       "</div>"
      ],
      "text/plain": [
       "                                            sentence  OOV_rate  OC\n",
       "0                              [CLS] 지미 카터 [SEP]       0.0   0\n",
       "1  [CLS] 제임스 얼 카터 주니어 는 민주당 출...       0.0   0\n",
       "2  [CLS] 지미 카터 는 조지 아주 섬 ##터 카운티...       0.0   0\n",
       "3  [CLS] 조지아 공과 대학교 를 졸업 하 였 ᄃ...       0.0   0\n",
       "4  [CLS] 1962 년 조지아 주 상원 의원 선거 에...       0.0   0"
      ]
     },
     "execution_count": 44,
     "metadata": {},
     "output_type": "execute_result"
    }
   ],
   "source": [
    "corpus.head()"
   ]
  },
  {
   "cell_type": "code",
   "execution_count": 45,
   "metadata": {},
   "outputs": [],
   "source": [
    "#fixed_grammatical\n",
    "corpus = pd.read_csv('../corpus/bpe_tokenized/morpheme_mecab_fixed_decomposed_grammatical_grammatical_symbol_F_txt', \n",
    "                     sep='\\t', names=['sentence'])"
   ]
  },
  {
   "cell_type": "code",
   "execution_count": 46,
   "metadata": {},
   "outputs": [],
   "source": [
    "OR = getOOVsentencePerSentences(corpus['sentence'])"
   ]
  },
  {
   "cell_type": "code",
   "execution_count": 47,
   "metadata": {},
   "outputs": [
    {
     "name": "stdout",
     "output_type": "stream",
     "text": [
      "(0, 4611602, 0.0)\n"
     ]
    }
   ],
   "source": [
    "print(OR)"
   ]
  },
  {
   "cell_type": "code",
   "execution_count": 48,
   "metadata": {},
   "outputs": [],
   "source": [
    "corpus['OOV_rate'] = corpus['sentence'].apply(lambda x: getOOVRatePerSentence(x))"
   ]
  },
  {
   "cell_type": "code",
   "execution_count": 49,
   "metadata": {},
   "outputs": [],
   "source": [
    "corpus['OC'] = corpus['sentence'].apply(lambda x: getCountofallOOV(x))"
   ]
  },
  {
   "cell_type": "code",
   "execution_count": 50,
   "metadata": {},
   "outputs": [
    {
     "name": "stdout",
     "output_type": "stream",
     "text": [
      "0.0 \n",
      " 0.0 \n",
      " 0\n"
     ]
    }
   ],
   "source": [
    "print(corpus['OOV_rate'].mean(), '\\n', corpus['OC'].mean(), '\\n', corpus['OC'].sum())"
   ]
  },
  {
   "cell_type": "code",
   "execution_count": 51,
   "metadata": {},
   "outputs": [
    {
     "data": {
      "text/html": [
       "<div>\n",
       "<style scoped>\n",
       "    .dataframe tbody tr th:only-of-type {\n",
       "        vertical-align: middle;\n",
       "    }\n",
       "\n",
       "    .dataframe tbody tr th {\n",
       "        vertical-align: top;\n",
       "    }\n",
       "\n",
       "    .dataframe thead th {\n",
       "        text-align: right;\n",
       "    }\n",
       "</style>\n",
       "<table border=\"1\" class=\"dataframe\">\n",
       "  <thead>\n",
       "    <tr style=\"text-align: right;\">\n",
       "      <th></th>\n",
       "      <th>sentence</th>\n",
       "      <th>OOV_rate</th>\n",
       "      <th>OC</th>\n",
       "    </tr>\n",
       "  </thead>\n",
       "  <tbody>\n",
       "    <tr>\n",
       "      <th>0</th>\n",
       "      <td>[CLS] 지미 카터 [SEP]</td>\n",
       "      <td>0.0</td>\n",
       "      <td>0</td>\n",
       "    </tr>\n",
       "    <tr>\n",
       "      <th>1</th>\n",
       "      <td>[CLS] 제임스 얼 카터 주니어 는 민주당 출신 미국 39 대 대통령 이 다...</td>\n",
       "      <td>0.0</td>\n",
       "      <td>0</td>\n",
       "    </tr>\n",
       "    <tr>\n",
       "      <th>2</th>\n",
       "      <td>[CLS] 지미 카터 는 조지 아주 섬 ##터 카운티 플 레인 ##스 마을 에...</td>\n",
       "      <td>0.0</td>\n",
       "      <td>0</td>\n",
       "    </tr>\n",
       "    <tr>\n",
       "      <th>3</th>\n",
       "      <td>[CLS] 조지아 공과 대학교 를 졸업 하 였 다 . 그 후 해군 에 들...</td>\n",
       "      <td>0.0</td>\n",
       "      <td>0</td>\n",
       "    </tr>\n",
       "    <tr>\n",
       "      <th>4</th>\n",
       "      <td>[CLS] 1962 년 조지아 주 상원 의원 선거 에서 낙선 하 나 그 선거 ...</td>\n",
       "      <td>0.0</td>\n",
       "      <td>0</td>\n",
       "    </tr>\n",
       "  </tbody>\n",
       "</table>\n",
       "</div>"
      ],
      "text/plain": [
       "                                            sentence  OOV_rate  OC\n",
       "0                                  [CLS] 지미 카터 [SEP]       0.0   0\n",
       "1  [CLS] 제임스 얼 카터 주니어 는 민주당 출신 미국 39 대 대통령 이 다...       0.0   0\n",
       "2  [CLS] 지미 카터 는 조지 아주 섬 ##터 카운티 플 레인 ##스 마을 에...       0.0   0\n",
       "3  [CLS] 조지아 공과 대학교 를 졸업 하 였 다 . 그 후 해군 에 들...       0.0   0\n",
       "4  [CLS] 1962 년 조지아 주 상원 의원 선거 에서 낙선 하 나 그 선거 ...       0.0   0"
      ]
     },
     "execution_count": 51,
     "metadata": {},
     "output_type": "execute_result"
    }
   ],
   "source": [
    "corpus.head()"
   ]
  },
  {
   "cell_type": "code",
   "execution_count": 52,
   "metadata": {},
   "outputs": [],
   "source": [
    "#fixed_lexical"
   ]
  },
  {
   "cell_type": "code",
   "execution_count": 53,
   "metadata": {},
   "outputs": [],
   "source": [
    "corpus = pd.read_csv('../corpus/bpe_tokenized/morpheme_mecab_fixed_decomposed_lexical_grammatical_symbol_F_txt', \n",
    "                     sep='\\t', names=['sentence'])"
   ]
  },
  {
   "cell_type": "code",
   "execution_count": 54,
   "metadata": {},
   "outputs": [],
   "source": [
    "OR = getOOVsentencePerSentences(corpus['sentence'])"
   ]
  },
  {
   "cell_type": "code",
   "execution_count": 55,
   "metadata": {},
   "outputs": [
    {
     "name": "stdout",
     "output_type": "stream",
     "text": [
      "(0, 4611602, 0.0)\n"
     ]
    }
   ],
   "source": [
    "print(OR)"
   ]
  },
  {
   "cell_type": "code",
   "execution_count": 56,
   "metadata": {},
   "outputs": [],
   "source": [
    "corpus['OOV_rate'] = corpus['sentence'].apply(lambda x: getOOVRatePerSentence(x))"
   ]
  },
  {
   "cell_type": "code",
   "execution_count": 57,
   "metadata": {},
   "outputs": [],
   "source": [
    "corpus['OC'] = corpus['sentence'].apply(lambda x: getCountofallOOV(x))"
   ]
  },
  {
   "cell_type": "code",
   "execution_count": 58,
   "metadata": {},
   "outputs": [
    {
     "name": "stdout",
     "output_type": "stream",
     "text": [
      "0.0 \n",
      " 0.0 \n",
      " 0\n"
     ]
    }
   ],
   "source": [
    "print(corpus['OOV_rate'].mean(), '\\n', corpus['OC'].mean(), '\\n', corpus['OC'].sum())"
   ]
  },
  {
   "cell_type": "code",
   "execution_count": 59,
   "metadata": {},
   "outputs": [
    {
     "data": {
      "text/html": [
       "<div>\n",
       "<style scoped>\n",
       "    .dataframe tbody tr th:only-of-type {\n",
       "        vertical-align: middle;\n",
       "    }\n",
       "\n",
       "    .dataframe tbody tr th {\n",
       "        vertical-align: top;\n",
       "    }\n",
       "\n",
       "    .dataframe thead th {\n",
       "        text-align: right;\n",
       "    }\n",
       "</style>\n",
       "<table border=\"1\" class=\"dataframe\">\n",
       "  <thead>\n",
       "    <tr style=\"text-align: right;\">\n",
       "      <th></th>\n",
       "      <th>sentence</th>\n",
       "      <th>OOV_rate</th>\n",
       "      <th>OC</th>\n",
       "    </tr>\n",
       "  </thead>\n",
       "  <tbody>\n",
       "    <tr>\n",
       "      <th>0</th>\n",
       "      <td>[CLS] 지미 카터 [SEP]</td>\n",
       "      <td>0.0</td>\n",
       "      <td>0</td>\n",
       "    </tr>\n",
       "    <tr>\n",
       "      <th>1</th>\n",
       "      <td>[CLS] 제임스 얼 카터 주니어 는 민주당 출시...</td>\n",
       "      <td>0.0</td>\n",
       "      <td>0</td>\n",
       "    </tr>\n",
       "    <tr>\n",
       "      <th>2</th>\n",
       "      <td>[CLS] 지미 카터 는 조지 아주 섬 ##터 카운티 ᄑ...</td>\n",
       "      <td>0.0</td>\n",
       "      <td>0</td>\n",
       "    </tr>\n",
       "    <tr>\n",
       "      <th>3</th>\n",
       "      <td>[CLS] 조지아 공과 대학교 를 졸업 하 였 다 . ᄀ...</td>\n",
       "      <td>0.0</td>\n",
       "      <td>0</td>\n",
       "    </tr>\n",
       "    <tr>\n",
       "      <th>4</th>\n",
       "      <td>[CLS] 1962 년 조지아 주 상원 의원 선거 에서...</td>\n",
       "      <td>0.0</td>\n",
       "      <td>0</td>\n",
       "    </tr>\n",
       "  </tbody>\n",
       "</table>\n",
       "</div>"
      ],
      "text/plain": [
       "                                            sentence  OOV_rate  OC\n",
       "0                              [CLS] 지미 카터 [SEP]       0.0   0\n",
       "1  [CLS] 제임스 얼 카터 주니어 는 민주당 출시...       0.0   0\n",
       "2  [CLS] 지미 카터 는 조지 아주 섬 ##터 카운티 ᄑ...       0.0   0\n",
       "3  [CLS] 조지아 공과 대학교 를 졸업 하 였 다 . ᄀ...       0.0   0\n",
       "4  [CLS] 1962 년 조지아 주 상원 의원 선거 에서...       0.0   0"
      ]
     },
     "execution_count": 59,
     "metadata": {},
     "output_type": "execute_result"
    }
   ],
   "source": [
    "corpus.head()"
   ]
  },
  {
   "cell_type": "markdown",
   "metadata": {},
   "source": [
    "## T"
   ]
  },
  {
   "cell_type": "code",
   "execution_count": 60,
   "metadata": {},
   "outputs": [],
   "source": [
    "# fixed_composed_T\n",
    "corpus = pd.read_csv('../corpus/bpe_tokenized/morpheme_mecab_fixed_composed_grammatical_symbol_T_txt', \n",
    "                     sep='\\t', names=['sentence'])"
   ]
  },
  {
   "cell_type": "code",
   "execution_count": 61,
   "metadata": {},
   "outputs": [
    {
     "name": "stdout",
     "output_type": "stream",
     "text": [
      "(0, 4611602, 0.0)\n"
     ]
    }
   ],
   "source": [
    "OR = getOOVsentencePerSentences(corpus['sentence'])\n",
    "    \n",
    "print(OR)"
   ]
  },
  {
   "cell_type": "code",
   "execution_count": 62,
   "metadata": {},
   "outputs": [],
   "source": [
    "corpus['OOV_rate'] = corpus['sentence'].apply(lambda x: getOOVRatePerSentence(x))"
   ]
  },
  {
   "cell_type": "code",
   "execution_count": 63,
   "metadata": {},
   "outputs": [],
   "source": [
    "corpus['OC'] = corpus['sentence'].apply(lambda x: getCountofallOOV(x))"
   ]
  },
  {
   "cell_type": "code",
   "execution_count": 64,
   "metadata": {},
   "outputs": [
    {
     "name": "stdout",
     "output_type": "stream",
     "text": [
      "0.0 \n",
      " 0.0 \n",
      " 0\n"
     ]
    }
   ],
   "source": [
    "print(corpus['OOV_rate'].mean(), '\\n', corpus['OC'].mean(), '\\n', corpus['OC'].sum())"
   ]
  },
  {
   "cell_type": "code",
   "execution_count": 65,
   "metadata": {},
   "outputs": [
    {
     "data": {
      "text/html": [
       "<div>\n",
       "<style scoped>\n",
       "    .dataframe tbody tr th:only-of-type {\n",
       "        vertical-align: middle;\n",
       "    }\n",
       "\n",
       "    .dataframe tbody tr th {\n",
       "        vertical-align: top;\n",
       "    }\n",
       "\n",
       "    .dataframe thead th {\n",
       "        text-align: right;\n",
       "    }\n",
       "</style>\n",
       "<table border=\"1\" class=\"dataframe\">\n",
       "  <thead>\n",
       "    <tr style=\"text-align: right;\">\n",
       "      <th></th>\n",
       "      <th>sentence</th>\n",
       "      <th>OOV_rate</th>\n",
       "      <th>OC</th>\n",
       "    </tr>\n",
       "  </thead>\n",
       "  <tbody>\n",
       "    <tr>\n",
       "      <th>0</th>\n",
       "      <td>[CLS] 지미 카터 [SEP]</td>\n",
       "      <td>0.0</td>\n",
       "      <td>0</td>\n",
       "    </tr>\n",
       "    <tr>\n",
       "      <th>1</th>\n",
       "      <td>[CLS] 제임스 얼 카터 주니어 ⫸는 민주당 출신 미국 39 대 대통령 이 ⭧다 ...</td>\n",
       "      <td>0.0</td>\n",
       "      <td>0</td>\n",
       "    </tr>\n",
       "    <tr>\n",
       "      <th>2</th>\n",
       "      <td>[CLS] 지미 카터 ⫸는 조지 아주 섬 ##터 카운티 플 레인 ##스 마을 ⫸에서...</td>\n",
       "      <td>0.0</td>\n",
       "      <td>0</td>\n",
       "    </tr>\n",
       "    <tr>\n",
       "      <th>3</th>\n",
       "      <td>[CLS] 조지아 공과 대학교 ⫸를 졸업 하 ⭧였 ⭧다 . 그 후 해군 ⫸에 들어가...</td>\n",
       "      <td>0.0</td>\n",
       "      <td>0</td>\n",
       "    </tr>\n",
       "    <tr>\n",
       "      <th>4</th>\n",
       "      <td>[CLS] 1962 년 조지아 주 상원 의원 선거 ⫸에서 낙선 하 ⭧나 그 선거 ⫸...</td>\n",
       "      <td>0.0</td>\n",
       "      <td>0</td>\n",
       "    </tr>\n",
       "  </tbody>\n",
       "</table>\n",
       "</div>"
      ],
      "text/plain": [
       "                                            sentence  OOV_rate  OC\n",
       "0                                  [CLS] 지미 카터 [SEP]       0.0   0\n",
       "1  [CLS] 제임스 얼 카터 주니어 ⫸는 민주당 출신 미국 39 대 대통령 이 ⭧다 ...       0.0   0\n",
       "2  [CLS] 지미 카터 ⫸는 조지 아주 섬 ##터 카운티 플 레인 ##스 마을 ⫸에서...       0.0   0\n",
       "3  [CLS] 조지아 공과 대학교 ⫸를 졸업 하 ⭧였 ⭧다 . 그 후 해군 ⫸에 들어가...       0.0   0\n",
       "4  [CLS] 1962 년 조지아 주 상원 의원 선거 ⫸에서 낙선 하 ⭧나 그 선거 ⫸...       0.0   0"
      ]
     },
     "execution_count": 65,
     "metadata": {},
     "output_type": "execute_result"
    }
   ],
   "source": [
    "corpus.head()"
   ]
  },
  {
   "cell_type": "code",
   "execution_count": 66,
   "metadata": {},
   "outputs": [],
   "source": [
    "# fixed_pure_T\n",
    "corpus = pd.read_csv('../corpus/bpe_tokenized/morpheme_mecab_fixed_decomposed_pure_grammatical_symbol_T_txt', \n",
    "                     sep='\\t', names=['sentence'])"
   ]
  },
  {
   "cell_type": "code",
   "execution_count": 67,
   "metadata": {},
   "outputs": [
    {
     "name": "stdout",
     "output_type": "stream",
     "text": [
      "(0, 4611602, 0.0)\n"
     ]
    }
   ],
   "source": [
    "OR = getOOVsentencePerSentences(corpus['sentence'])\n",
    "    \n",
    "print(OR)"
   ]
  },
  {
   "cell_type": "code",
   "execution_count": 68,
   "metadata": {},
   "outputs": [],
   "source": [
    "corpus['OOV_rate'] = corpus['sentence'].apply(lambda x: getOOVRatePerSentence(x))"
   ]
  },
  {
   "cell_type": "code",
   "execution_count": 69,
   "metadata": {},
   "outputs": [],
   "source": [
    "corpus['OC'] = corpus['sentence'].apply(lambda x: getCountofallOOV(x))"
   ]
  },
  {
   "cell_type": "code",
   "execution_count": 70,
   "metadata": {},
   "outputs": [
    {
     "name": "stdout",
     "output_type": "stream",
     "text": [
      "0.0 \n",
      " 0.0 \n",
      " 0\n"
     ]
    }
   ],
   "source": [
    "print(corpus['OOV_rate'].mean(), '\\n', corpus['OC'].mean(), '\\n', corpus['OC'].sum())"
   ]
  },
  {
   "cell_type": "code",
   "execution_count": 71,
   "metadata": {},
   "outputs": [
    {
     "data": {
      "text/html": [
       "<div>\n",
       "<style scoped>\n",
       "    .dataframe tbody tr th:only-of-type {\n",
       "        vertical-align: middle;\n",
       "    }\n",
       "\n",
       "    .dataframe tbody tr th {\n",
       "        vertical-align: top;\n",
       "    }\n",
       "\n",
       "    .dataframe thead th {\n",
       "        text-align: right;\n",
       "    }\n",
       "</style>\n",
       "<table border=\"1\" class=\"dataframe\">\n",
       "  <thead>\n",
       "    <tr style=\"text-align: right;\">\n",
       "      <th></th>\n",
       "      <th>sentence</th>\n",
       "      <th>OOV_rate</th>\n",
       "      <th>OC</th>\n",
       "    </tr>\n",
       "  </thead>\n",
       "  <tbody>\n",
       "    <tr>\n",
       "      <th>0</th>\n",
       "      <td>[CLS] 지미 카터 [SEP]</td>\n",
       "      <td>0.0</td>\n",
       "      <td>0</td>\n",
       "    </tr>\n",
       "    <tr>\n",
       "      <th>1</th>\n",
       "      <td>[CLS] 제임스 얼 카터 주니어 ⫸는 민주당 추...</td>\n",
       "      <td>0.0</td>\n",
       "      <td>0</td>\n",
       "    </tr>\n",
       "    <tr>\n",
       "      <th>2</th>\n",
       "      <td>[CLS] 지미 카터 ⫸는 조지 아주 섬 ##터 카운ᄐ...</td>\n",
       "      <td>0.0</td>\n",
       "      <td>0</td>\n",
       "    </tr>\n",
       "    <tr>\n",
       "      <th>3</th>\n",
       "      <td>[CLS] 조지아 공과 대학교 ⫸를 졸업 하 ⭧였...</td>\n",
       "      <td>0.0</td>\n",
       "      <td>0</td>\n",
       "    </tr>\n",
       "    <tr>\n",
       "      <th>4</th>\n",
       "      <td>[CLS] 1962 년 조지아 주 상원 의원 선거 ⫸ᄋ...</td>\n",
       "      <td>0.0</td>\n",
       "      <td>0</td>\n",
       "    </tr>\n",
       "  </tbody>\n",
       "</table>\n",
       "</div>"
      ],
      "text/plain": [
       "                                            sentence  OOV_rate  OC\n",
       "0                              [CLS] 지미 카터 [SEP]       0.0   0\n",
       "1  [CLS] 제임스 얼 카터 주니어 ⫸는 민주당 추...       0.0   0\n",
       "2  [CLS] 지미 카터 ⫸는 조지 아주 섬 ##터 카운ᄐ...       0.0   0\n",
       "3  [CLS] 조지아 공과 대학교 ⫸를 졸업 하 ⭧였...       0.0   0\n",
       "4  [CLS] 1962 년 조지아 주 상원 의원 선거 ⫸ᄋ...       0.0   0"
      ]
     },
     "execution_count": 71,
     "metadata": {},
     "output_type": "execute_result"
    }
   ],
   "source": [
    "corpus.head()"
   ]
  },
  {
   "cell_type": "code",
   "execution_count": 72,
   "metadata": {},
   "outputs": [],
   "source": [
    "# fixed_grammatical_T"
   ]
  },
  {
   "cell_type": "code",
   "execution_count": 73,
   "metadata": {},
   "outputs": [],
   "source": [
    "corpus = pd.read_csv('../corpus/bpe_tokenized/morpheme_mecab_fixed_decomposed_grammatical_grammatical_symbol_T_txt', \n",
    "                     sep='\\t', names=['sentence'])"
   ]
  },
  {
   "cell_type": "code",
   "execution_count": 74,
   "metadata": {},
   "outputs": [
    {
     "name": "stdout",
     "output_type": "stream",
     "text": [
      "(0, 4611602, 0.0)\n"
     ]
    }
   ],
   "source": [
    "OR = getOOVsentencePerSentences(corpus['sentence'])\n",
    "    \n",
    "print(OR)"
   ]
  },
  {
   "cell_type": "code",
   "execution_count": 75,
   "metadata": {},
   "outputs": [],
   "source": [
    "corpus['OOV_rate'] = corpus['sentence'].apply(lambda x: getOOVRatePerSentence(x))"
   ]
  },
  {
   "cell_type": "code",
   "execution_count": 76,
   "metadata": {},
   "outputs": [],
   "source": [
    "corpus['OC'] = corpus['sentence'].apply(lambda x: getCountofallOOV(x))"
   ]
  },
  {
   "cell_type": "code",
   "execution_count": 77,
   "metadata": {},
   "outputs": [
    {
     "name": "stdout",
     "output_type": "stream",
     "text": [
      "0.0 \n",
      " 0.0 \n",
      " 0\n"
     ]
    }
   ],
   "source": [
    "print(corpus['OOV_rate'].mean(), '\\n', corpus['OC'].mean(), '\\n', corpus['OC'].sum())"
   ]
  },
  {
   "cell_type": "code",
   "execution_count": 78,
   "metadata": {},
   "outputs": [
    {
     "data": {
      "text/html": [
       "<div>\n",
       "<style scoped>\n",
       "    .dataframe tbody tr th:only-of-type {\n",
       "        vertical-align: middle;\n",
       "    }\n",
       "\n",
       "    .dataframe tbody tr th {\n",
       "        vertical-align: top;\n",
       "    }\n",
       "\n",
       "    .dataframe thead th {\n",
       "        text-align: right;\n",
       "    }\n",
       "</style>\n",
       "<table border=\"1\" class=\"dataframe\">\n",
       "  <thead>\n",
       "    <tr style=\"text-align: right;\">\n",
       "      <th></th>\n",
       "      <th>sentence</th>\n",
       "      <th>OOV_rate</th>\n",
       "      <th>OC</th>\n",
       "    </tr>\n",
       "  </thead>\n",
       "  <tbody>\n",
       "    <tr>\n",
       "      <th>0</th>\n",
       "      <td>[CLS] 지미 카터 [SEP]</td>\n",
       "      <td>0.0</td>\n",
       "      <td>0</td>\n",
       "    </tr>\n",
       "    <tr>\n",
       "      <th>1</th>\n",
       "      <td>[CLS] 제임스 얼 카터 주니어 ⫸는 민주당 출신 미국 39 대 대통령 이 ⭧...</td>\n",
       "      <td>0.0</td>\n",
       "      <td>0</td>\n",
       "    </tr>\n",
       "    <tr>\n",
       "      <th>2</th>\n",
       "      <td>[CLS] 지미 카터 ⫸는 조지 아주 섬 ##터 카운티 플 레인 ##스 마을 ⫸...</td>\n",
       "      <td>0.0</td>\n",
       "      <td>0</td>\n",
       "    </tr>\n",
       "    <tr>\n",
       "      <th>3</th>\n",
       "      <td>[CLS] 조지아 공과 대학교 ⫸를 졸업 하 ⭧였 ⭧다 . 그 후 해군 ⫸...</td>\n",
       "      <td>0.0</td>\n",
       "      <td>0</td>\n",
       "    </tr>\n",
       "    <tr>\n",
       "      <th>4</th>\n",
       "      <td>[CLS] 1962 년 조지아 주 상원 의원 선거 ⫸에서 낙선 하 ⭧나 그 선...</td>\n",
       "      <td>0.0</td>\n",
       "      <td>0</td>\n",
       "    </tr>\n",
       "  </tbody>\n",
       "</table>\n",
       "</div>"
      ],
      "text/plain": [
       "                                            sentence  OOV_rate  OC\n",
       "0                                  [CLS] 지미 카터 [SEP]       0.0   0\n",
       "1  [CLS] 제임스 얼 카터 주니어 ⫸는 민주당 출신 미국 39 대 대통령 이 ⭧...       0.0   0\n",
       "2  [CLS] 지미 카터 ⫸는 조지 아주 섬 ##터 카운티 플 레인 ##스 마을 ⫸...       0.0   0\n",
       "3  [CLS] 조지아 공과 대학교 ⫸를 졸업 하 ⭧였 ⭧다 . 그 후 해군 ⫸...       0.0   0\n",
       "4  [CLS] 1962 년 조지아 주 상원 의원 선거 ⫸에서 낙선 하 ⭧나 그 선...       0.0   0"
      ]
     },
     "execution_count": 78,
     "metadata": {},
     "output_type": "execute_result"
    }
   ],
   "source": [
    "corpus.head()"
   ]
  },
  {
   "cell_type": "code",
   "execution_count": 79,
   "metadata": {},
   "outputs": [],
   "source": [
    "# fixed_lexical_T\n",
    "corpus = pd.read_csv('../corpus/bpe_tokenized/morpheme_mecab_fixed_decomposed_lexical_grammatical_symbol_T_txt', \n",
    "                     sep='\\t', names=['sentence'])"
   ]
  },
  {
   "cell_type": "code",
   "execution_count": 80,
   "metadata": {},
   "outputs": [
    {
     "name": "stdout",
     "output_type": "stream",
     "text": [
      "(0, 4611602, 0.0)\n"
     ]
    }
   ],
   "source": [
    "OR = getOOVsentencePerSentences(corpus['sentence'])\n",
    "    \n",
    "print(OR)"
   ]
  },
  {
   "cell_type": "code",
   "execution_count": 81,
   "metadata": {},
   "outputs": [],
   "source": [
    "corpus['OOV_rate'] = corpus['sentence'].apply(lambda x: getOOVRatePerSentence(x))"
   ]
  },
  {
   "cell_type": "code",
   "execution_count": 82,
   "metadata": {},
   "outputs": [],
   "source": [
    "corpus['OC'] = corpus['sentence'].apply(lambda x: getCountofallOOV(x))"
   ]
  },
  {
   "cell_type": "code",
   "execution_count": 83,
   "metadata": {},
   "outputs": [
    {
     "name": "stdout",
     "output_type": "stream",
     "text": [
      "0.0 \n",
      " 0.0 \n",
      " 0\n"
     ]
    }
   ],
   "source": [
    "print(corpus['OOV_rate'].mean(), '\\n', corpus['OC'].mean(), '\\n', corpus['OC'].sum())"
   ]
  },
  {
   "cell_type": "code",
   "execution_count": 84,
   "metadata": {},
   "outputs": [
    {
     "data": {
      "text/html": [
       "<div>\n",
       "<style scoped>\n",
       "    .dataframe tbody tr th:only-of-type {\n",
       "        vertical-align: middle;\n",
       "    }\n",
       "\n",
       "    .dataframe tbody tr th {\n",
       "        vertical-align: top;\n",
       "    }\n",
       "\n",
       "    .dataframe thead th {\n",
       "        text-align: right;\n",
       "    }\n",
       "</style>\n",
       "<table border=\"1\" class=\"dataframe\">\n",
       "  <thead>\n",
       "    <tr style=\"text-align: right;\">\n",
       "      <th></th>\n",
       "      <th>sentence</th>\n",
       "      <th>OOV_rate</th>\n",
       "      <th>OC</th>\n",
       "    </tr>\n",
       "  </thead>\n",
       "  <tbody>\n",
       "    <tr>\n",
       "      <th>0</th>\n",
       "      <td>[CLS] 지미 카터 [SEP]</td>\n",
       "      <td>0.0</td>\n",
       "      <td>0</td>\n",
       "    </tr>\n",
       "    <tr>\n",
       "      <th>1</th>\n",
       "      <td>[CLS] 제임스 얼 카터 주니어 ⫸는 민주당 출ᄉ...</td>\n",
       "      <td>0.0</td>\n",
       "      <td>0</td>\n",
       "    </tr>\n",
       "    <tr>\n",
       "      <th>2</th>\n",
       "      <td>[CLS] 지미 카터 ⫸는 조지 아주 섬 ##터 카운티 ...</td>\n",
       "      <td>0.0</td>\n",
       "      <td>0</td>\n",
       "    </tr>\n",
       "    <tr>\n",
       "      <th>3</th>\n",
       "      <td>[CLS] 조지아 공과 대학교 ⫸를 졸업 하 ⭧였 ⭧다 ...</td>\n",
       "      <td>0.0</td>\n",
       "      <td>0</td>\n",
       "    </tr>\n",
       "    <tr>\n",
       "      <th>4</th>\n",
       "      <td>[CLS] 1962 년 조지아 주 상원 의원 선거 ⫸에...</td>\n",
       "      <td>0.0</td>\n",
       "      <td>0</td>\n",
       "    </tr>\n",
       "  </tbody>\n",
       "</table>\n",
       "</div>"
      ],
      "text/plain": [
       "                                            sentence  OOV_rate  OC\n",
       "0                              [CLS] 지미 카터 [SEP]       0.0   0\n",
       "1  [CLS] 제임스 얼 카터 주니어 ⫸는 민주당 출ᄉ...       0.0   0\n",
       "2  [CLS] 지미 카터 ⫸는 조지 아주 섬 ##터 카운티 ...       0.0   0\n",
       "3  [CLS] 조지아 공과 대학교 ⫸를 졸업 하 ⭧였 ⭧다 ...       0.0   0\n",
       "4  [CLS] 1962 년 조지아 주 상원 의원 선거 ⫸에...       0.0   0"
      ]
     },
     "execution_count": 84,
     "metadata": {},
     "output_type": "execute_result"
    }
   ],
   "source": [
    "corpus.head()"
   ]
  },
  {
   "cell_type": "code",
   "execution_count": null,
   "metadata": {},
   "outputs": [],
   "source": []
  },
  {
   "cell_type": "code",
   "execution_count": null,
   "metadata": {},
   "outputs": [],
   "source": []
  },
  {
   "cell_type": "code",
   "execution_count": null,
   "metadata": {},
   "outputs": [],
   "source": []
  }
 ],
 "metadata": {
  "kernelspec": {
   "display_name": "acl",
   "language": "python",
   "name": "acl"
  },
  "language_info": {
   "codemirror_mode": {
    "name": "ipython",
    "version": 3
   },
   "file_extension": ".py",
   "mimetype": "text/x-python",
   "name": "python",
   "nbconvert_exporter": "python",
   "pygments_lexer": "ipython3",
   "version": "3.8.9"
  }
 },
 "nbformat": 4,
 "nbformat_minor": 2
}
